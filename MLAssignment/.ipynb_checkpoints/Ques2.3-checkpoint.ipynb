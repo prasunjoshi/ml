{
 "cells": [
  {
   "cell_type": "code",
   "execution_count": 2,
   "metadata": {},
   "outputs": [],
   "source": [
    "import pandas as pd \n",
    "iris = pd.read_csv(\"datasets/Assignment_data/Data_Q2/iris.csv\")\n"
   ]
  },
  {
   "cell_type": "markdown",
   "metadata": {},
   "source": [
    "# Logistic Regression Gradient Descent"
   ]
  },
  {
   "cell_type": "code",
   "execution_count": 9,
   "metadata": {},
   "outputs": [],
   "source": [
    "import numpy as np \n",
    "from sklearn.model_selection import train_test_split\n",
    "n = 4  # no. of features\n",
    "\n",
    "m = iris.shape[0]\n",
    "\n",
    "X = np.ones((m,n + 1))\n",
    "y = np.array((m,1))\n",
    "\n",
    "X[:,1] = iris['sepal_length'].values\n",
    "X[:,2] = iris['sepal_width'].values\n",
    "X[:,3] = iris['petal_length'].values\n",
    "X[:,4] = iris['petal_width'].values\n",
    "\n",
    "#Labels\n",
    "y = iris['species'].values\n",
    "\n",
    "X_train, X_test, y_train, y_test = train_test_split(X, y, test_size = 0.33, random_state = 11)\n",
    "    "
   ]
  },
  {
   "cell_type": "code",
   "execution_count": 10,
   "metadata": {},
   "outputs": [],
   "source": [
    "Species = ['setosa','virginica','versicolor']\n",
    "\n",
    "def sigmoid(z):\n",
    "    return 1.0 / (1 + np.exp(-z))\n",
    "\n",
    "def Gradient(theta, X, y):\n",
    "    m, n = X.shape\n",
    "    theta = theta.reshape((n, 1))\n",
    "    y = y.reshape((m, 1))\n",
    "    h = sigmoid(X.dot(theta))\n",
    "    \n",
    "\n",
    "    return ((1 / m) * X.T.dot(h - y)) \n",
    "\n",
    "def logisticRegression(X, y,B,itr):\n",
    "    for i in range(itr):\n",
    "        B = B - 0.01*Gradient(B,X,y)\n",
    "    return B \n",
    "    \n",
    "    \n",
    "    \n",
    "all_theta = np.zeros((3, n + 1))\n",
    "\n",
    "#One vs all\n",
    "i = 0\n",
    "for flower in Species:\n",
    "    #set the labels in 0 and 1\n",
    "    tmp_y = np.array(y_train == flower, dtype = int)\n",
    "    \n",
    "    optTheta = logisticRegression(X_train, tmp_y, np.zeros((n + 1,1)),10000)\n",
    "    all_theta[i] = list(optTheta)\n",
    "    i += 1\n",
    "\n",
    "\n",
    "    "
   ]
  },
  {
   "cell_type": "code",
   "execution_count": 11,
   "metadata": {},
   "outputs": [
    {
     "name": "stdout",
     "output_type": "stream",
     "text": [
      "Test Accuracy  90.0 %\n"
     ]
    }
   ],
   "source": [
    "from sklearn.metrics import accuracy_score\n",
    "P = sigmoid(X_test.dot(all_theta.T)) #probability for each flower\n",
    "p = [Species[np.argmax(P[i, :])] for i in range(X_test.shape[0])]\n",
    "\n",
    "print(\"Test Accuracy \", accuracy_score(y_test, p) * 100 , '%')"
   ]
  },
  {
   "cell_type": "markdown",
   "metadata": {},
   "source": [
    "# Logistic Regression using Newton's Method"
   ]
  },
  {
   "cell_type": "code",
   "execution_count": 12,
   "metadata": {},
   "outputs": [],
   "source": [
    "from numpy.linalg import inv\n",
    "theta_mat = np.random.randn(5,1)\n",
    "p_x = sigmoid(X_train.dot(theta_mat))\n",
    "p_x_transpose = (1-p_x).T\n",
    "\n",
    "W = p_x.dot(p_x_transpose)\n",
    "np.shape(W)\n",
    "\n",
    "for i in range(len(W)):\n",
    "    for j in range(len(W)):\n",
    "        if(i!=j):\n",
    "            W[i][j]=0\n",
    "X_transpose = X_train.T\n",
    "Hessian = X_transpose.dot(W.dot(X_train))\n",
    "\n",
    "Hessian_inv = inv(Hessian)\n"
   ]
  },
  {
   "cell_type": "code",
   "execution_count": 14,
   "metadata": {},
   "outputs": [
    {
     "name": "stdout",
     "output_type": "stream",
     "text": [
      "Test Accuracy  60.0 %\n"
     ]
    },
    {
     "name": "stderr",
     "output_type": "stream",
     "text": [
      "/usr/local/lib/python3.5/dist-packages/ipykernel_launcher.py:4: RuntimeWarning: overflow encountered in exp\n",
      "  after removing the cwd from sys.path.\n"
     ]
    }
   ],
   "source": [
    "Species = ['setosa','virginica','versicolor']\n",
    "\n",
    "def sigmoid(z):\n",
    "    return 1.0 / (1 + np.exp(-z))\n",
    "\n",
    "def Gradient_newton(theta, X, y):\n",
    "    m, n = X.shape\n",
    "    theta = theta.reshape((n, 1))\n",
    "    y = y.reshape((m, 1))\n",
    "    h = sigmoid(X.dot(theta))\n",
    "    \n",
    "\n",
    "    return ((1 / m) * X.T.dot(h - y)) \n",
    "\n",
    "def logisticRegression_hessian(X, y,B):\n",
    "    B = B - Hessian_inv.dot(Gradient_newton(B,X,y))\n",
    "    return B \n",
    "    \n",
    "all_theta = np.zeros((3, n + 1))\n",
    "i = 0\n",
    "for flower in Species:\n",
    "    #set the labels in 0 and 1\n",
    "    tmp_y = np.array(y_train == flower, dtype = int)\n",
    "    \n",
    "    optTheta = logisticRegression_hessian(X_train, tmp_y, np.zeros((n + 1,1)))\n",
    "    all_theta[i] = list(optTheta)\n",
    "    i += 1\n",
    "\n",
    "from sklearn.metrics import accuracy_score\n",
    "P = sigmoid(X_test.dot(all_theta.T)) \n",
    "p = [Species[np.argmax(P[i, :])] for i in range(X_test.shape[0])]\n",
    "\n",
    "print(\"Test Accuracy \", accuracy_score(y_test, p) * 100 , '%')\n",
    "    "
   ]
  },
  {
   "cell_type": "markdown",
   "metadata": {},
   "source": [
    "# Logistic Regression using library"
   ]
  },
  {
   "cell_type": "code",
   "execution_count": 15,
   "metadata": {},
   "outputs": [
    {
     "name": "stdout",
     "output_type": "stream",
     "text": [
      "accuracy is :  86.0\n"
     ]
    }
   ],
   "source": [
    "from sklearn.linear_model import LogisticRegression\n",
    "import time\n",
    "import math\n",
    "\n",
    "classifier = LogisticRegression(random_state=42)\n",
    "classifier.fit(X_train,y_train)\n",
    "y_pred = classifier.predict(X_test)\n",
    "\n",
    "\n",
    "from sklearn.metrics import accuracy_score\n",
    "print('accuracy is : ',accuracy_score(y_test,y_pred)*100)"
   ]
  },
  {
   "cell_type": "code",
   "execution_count": null,
   "metadata": {},
   "outputs": [],
   "source": []
  }
 ],
 "metadata": {
  "kernelspec": {
   "display_name": "Python 3",
   "language": "python",
   "name": "python3"
  },
  "language_info": {
   "codemirror_mode": {
    "name": "ipython",
    "version": 3
   },
   "file_extension": ".py",
   "mimetype": "text/x-python",
   "name": "python",
   "nbconvert_exporter": "python",
   "pygments_lexer": "ipython3",
   "version": "3.5.2"
  }
 },
 "nbformat": 4,
 "nbformat_minor": 2
}
