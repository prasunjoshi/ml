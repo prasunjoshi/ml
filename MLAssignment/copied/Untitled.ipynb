{
 "cells": [
  {
   "cell_type": "code",
   "execution_count": 2,
   "metadata": {},
   "outputs": [],
   "source": [
    "import pandas as pd \n",
    "import numpy as np\n",
    "import matplotlib.pyplot as plt\n",
    "import matplotlib.image as mpimg\n",
    "from pandas.tools.plotting import scatter_matrix\n",
    "from sklearn.model_selection import StratifiedShuffleSplit\n",
    "from sklearn.preprocessing import LabelBinarizer\n",
    "from sklearn.preprocessing import StandardScaler\n",
    "from sklearn.utils import shuffle\n",
    "import random\n",
    "import math\n",
    "import operator"
   ]
  },
  {
   "cell_type": "code",
   "execution_count": 3,
   "metadata": {},
   "outputs": [
    {
     "name": "stdout",
     "output_type": "stream",
     "text": [
      "   Unnamed: 0         1         2         3         4         5         6  7\n",
      "0           0 -0.040971  0.038292  0.096991  0.005886  0.006564  0.004365  1\n",
      "1           1 -0.099241  0.287637  0.195744  0.123063  0.067084  0.099108  1\n",
      "2           2 -0.036045 -0.038622 -0.100281  0.026661  0.012608  0.008302  1\n",
      "3           3  0.129075  0.079181  0.093029  0.022535  0.007101  0.007890  1\n",
      "4           4  0.095791 -0.031420  0.052757  0.028871  0.014270  0.021744  1\n",
      "5           5 -0.187405  0.183993 -0.017009  0.016419  0.007525  0.008272  1\n",
      "6           6  0.198770 -0.421786  0.221913  0.010610  0.074288  0.018225  1\n",
      "7           7  0.114771  0.019521 -0.034149  0.148131  0.290704  0.336898  0\n",
      "8           8  0.007819 -0.232766 -0.099452  0.038378  0.135892  0.113926  1\n",
      "9           9  0.111833  0.293356  0.060368  0.007087  0.006273  0.009585  1\n"
     ]
    }
   ],
   "source": [
    "house = pd.read_csv('D17.csv')\n",
    "print house.head(10)\n",
    "house = shuffle(house)"
   ]
  },
  {
   "cell_type": "markdown",
   "metadata": {},
   "source": [
    "### 0th coloumn looks like row numbering.This dont have any role in classification. let's drop 0th coloumn"
   ]
  },
  {
   "cell_type": "code",
   "execution_count": 4,
   "metadata": {},
   "outputs": [
    {
     "data": {
      "text/html": [
       "<div>\n",
       "<table border=\"1\" class=\"dataframe\">\n",
       "  <thead>\n",
       "    <tr style=\"text-align: right;\">\n",
       "      <th></th>\n",
       "      <th>1</th>\n",
       "      <th>2</th>\n",
       "      <th>3</th>\n",
       "      <th>4</th>\n",
       "      <th>5</th>\n",
       "      <th>6</th>\n",
       "      <th>7</th>\n",
       "    </tr>\n",
       "  </thead>\n",
       "  <tbody>\n",
       "    <tr>\n",
       "      <th>2050</th>\n",
       "      <td>0.160417</td>\n",
       "      <td>0.172608</td>\n",
       "      <td>0.064549</td>\n",
       "      <td>0.007969</td>\n",
       "      <td>0.006810</td>\n",
       "      <td>0.006220</td>\n",
       "      <td>1</td>\n",
       "    </tr>\n",
       "    <tr>\n",
       "      <th>1886</th>\n",
       "      <td>0.146839</td>\n",
       "      <td>0.186751</td>\n",
       "      <td>0.023182</td>\n",
       "      <td>0.004182</td>\n",
       "      <td>0.003489</td>\n",
       "      <td>0.003518</td>\n",
       "      <td>1</td>\n",
       "    </tr>\n",
       "    <tr>\n",
       "      <th>304</th>\n",
       "      <td>0.154943</td>\n",
       "      <td>-0.171877</td>\n",
       "      <td>-0.012777</td>\n",
       "      <td>0.026107</td>\n",
       "      <td>0.015827</td>\n",
       "      <td>0.018034</td>\n",
       "      <td>0</td>\n",
       "    </tr>\n",
       "    <tr>\n",
       "      <th>1538</th>\n",
       "      <td>0.249730</td>\n",
       "      <td>0.029012</td>\n",
       "      <td>-0.044453</td>\n",
       "      <td>0.007527</td>\n",
       "      <td>0.005203</td>\n",
       "      <td>0.004549</td>\n",
       "      <td>1</td>\n",
       "    </tr>\n",
       "    <tr>\n",
       "      <th>2131</th>\n",
       "      <td>-0.036826</td>\n",
       "      <td>-0.075935</td>\n",
       "      <td>0.147195</td>\n",
       "      <td>0.017014</td>\n",
       "      <td>0.011654</td>\n",
       "      <td>0.008685</td>\n",
       "      <td>1</td>\n",
       "    </tr>\n",
       "  </tbody>\n",
       "</table>\n",
       "</div>"
      ],
      "text/plain": [
       "             1         2         3         4         5         6  7\n",
       "2050  0.160417  0.172608  0.064549  0.007969  0.006810  0.006220  1\n",
       "1886  0.146839  0.186751  0.023182  0.004182  0.003489  0.003518  1\n",
       "304   0.154943 -0.171877 -0.012777  0.026107  0.015827  0.018034  0\n",
       "1538  0.249730  0.029012 -0.044453  0.007527  0.005203  0.004549  1\n",
       "2131 -0.036826 -0.075935  0.147195  0.017014  0.011654  0.008685  1"
      ]
     },
     "execution_count": 4,
     "metadata": {},
     "output_type": "execute_result"
    }
   ],
   "source": [
    "house = house.drop(['Unnamed: 0'],axis = 1)\n",
    "house.head()"
   ]
  },
  {
   "cell_type": "markdown",
   "metadata": {},
   "source": [
    "# Explore Data"
   ]
  },
  {
   "cell_type": "markdown",
   "metadata": {},
   "source": [
    "## Check for null values"
   ]
  },
  {
   "cell_type": "code",
   "execution_count": 5,
   "metadata": {},
   "outputs": [
    {
     "data": {
      "text/plain": [
       "1    False\n",
       "2    False\n",
       "3    False\n",
       "4    False\n",
       "5    False\n",
       "6    False\n",
       "7    False\n",
       "dtype: bool"
      ]
     },
     "execution_count": 5,
     "metadata": {},
     "output_type": "execute_result"
    }
   ],
   "source": [
    "house.isnull().any()"
   ]
  },
  {
   "cell_type": "raw",
   "metadata": {},
   "source": [
    "There is no null values in data that makes our job a little bit easier"
   ]
  },
  {
   "cell_type": "code",
   "execution_count": 40,
   "metadata": {},
   "outputs": [
    {
     "data": {
      "text/html": [
       "<div>\n",
       "<table border=\"1\" class=\"dataframe\">\n",
       "  <thead>\n",
       "    <tr style=\"text-align: right;\">\n",
       "      <th></th>\n",
       "      <th>1</th>\n",
       "      <th>2</th>\n",
       "      <th>3</th>\n",
       "      <th>4</th>\n",
       "      <th>5</th>\n",
       "      <th>6</th>\n",
       "      <th>7</th>\n",
       "    </tr>\n",
       "  </thead>\n",
       "  <tbody>\n",
       "    <tr>\n",
       "      <th>1</th>\n",
       "      <td>1.000000</td>\n",
       "      <td>-0.213905</td>\n",
       "      <td>0.055283</td>\n",
       "      <td>-0.040040</td>\n",
       "      <td>0.017195</td>\n",
       "      <td>-0.081457</td>\n",
       "      <td>-0.117944</td>\n",
       "    </tr>\n",
       "    <tr>\n",
       "      <th>2</th>\n",
       "      <td>-0.213905</td>\n",
       "      <td>1.000000</td>\n",
       "      <td>-0.045076</td>\n",
       "      <td>-0.054145</td>\n",
       "      <td>-0.079767</td>\n",
       "      <td>0.112730</td>\n",
       "      <td>0.072545</td>\n",
       "    </tr>\n",
       "    <tr>\n",
       "      <th>3</th>\n",
       "      <td>0.055283</td>\n",
       "      <td>-0.045076</td>\n",
       "      <td>1.000000</td>\n",
       "      <td>-0.017537</td>\n",
       "      <td>-0.069442</td>\n",
       "      <td>0.010132</td>\n",
       "      <td>0.004242</td>\n",
       "    </tr>\n",
       "    <tr>\n",
       "      <th>4</th>\n",
       "      <td>-0.040040</td>\n",
       "      <td>-0.054145</td>\n",
       "      <td>-0.017537</td>\n",
       "      <td>1.000000</td>\n",
       "      <td>0.663467</td>\n",
       "      <td>0.575025</td>\n",
       "      <td>-0.398477</td>\n",
       "    </tr>\n",
       "    <tr>\n",
       "      <th>5</th>\n",
       "      <td>0.017195</td>\n",
       "      <td>-0.079767</td>\n",
       "      <td>-0.069442</td>\n",
       "      <td>0.663467</td>\n",
       "      <td>1.000000</td>\n",
       "      <td>0.589606</td>\n",
       "      <td>-0.491877</td>\n",
       "    </tr>\n",
       "    <tr>\n",
       "      <th>6</th>\n",
       "      <td>-0.081457</td>\n",
       "      <td>0.112730</td>\n",
       "      <td>0.010132</td>\n",
       "      <td>0.575025</td>\n",
       "      <td>0.589606</td>\n",
       "      <td>1.000000</td>\n",
       "      <td>-0.279816</td>\n",
       "    </tr>\n",
       "    <tr>\n",
       "      <th>7</th>\n",
       "      <td>-0.117944</td>\n",
       "      <td>0.072545</td>\n",
       "      <td>0.004242</td>\n",
       "      <td>-0.398477</td>\n",
       "      <td>-0.491877</td>\n",
       "      <td>-0.279816</td>\n",
       "      <td>1.000000</td>\n",
       "    </tr>\n",
       "  </tbody>\n",
       "</table>\n",
       "</div>"
      ],
      "text/plain": [
       "          1         2         3         4         5         6         7\n",
       "1  1.000000 -0.213905  0.055283 -0.040040  0.017195 -0.081457 -0.117944\n",
       "2 -0.213905  1.000000 -0.045076 -0.054145 -0.079767  0.112730  0.072545\n",
       "3  0.055283 -0.045076  1.000000 -0.017537 -0.069442  0.010132  0.004242\n",
       "4 -0.040040 -0.054145 -0.017537  1.000000  0.663467  0.575025 -0.398477\n",
       "5  0.017195 -0.079767 -0.069442  0.663467  1.000000  0.589606 -0.491877\n",
       "6 -0.081457  0.112730  0.010132  0.575025  0.589606  1.000000 -0.279816\n",
       "7 -0.117944  0.072545  0.004242 -0.398477 -0.491877 -0.279816  1.000000"
      ]
     },
     "execution_count": 40,
     "metadata": {},
     "output_type": "execute_result"
    }
   ],
   "source": [
    "house.corr()"
   ]
  },
  {
   "cell_type": "code",
   "execution_count": 43,
   "metadata": {},
   "outputs": [
    {
     "data": {
      "text/plain": [
       "<seaborn.axisgrid.FacetGrid at 0x7fc940d9f750>"
      ]
     },
     "execution_count": 43,
     "metadata": {},
     "output_type": "execute_result"
    },
    {
     "data": {
      "image/png": "[encoded data removed]",
      "text/plain": [
       "<matplotlib.figure.Figure at 0x7fc9407f7c10>"
      ]
     },
     "metadata": {},
     "output_type": "display_data"
    }
   ],
   "source": [
    "import seaborn as sns\n",
    "sns.FacetGrid(house, hue=\"7\", size=5) \\\n",
    "   .map(plt.scatter, \"2\", \"3\") \\\n",
    "   .add_legend()"
   ]
  },
  {
   "cell_type": "code",
   "execution_count": 45,
   "metadata": {},
   "outputs": [
    {
     "data": {
      "text/plain": [
       "<matplotlib.axes._subplots.AxesSubplot at 0x7fc940282190>"
      ]
     },
     "execution_count": 45,
     "metadata": {},
     "output_type": "execute_result"
    },
    {
     "data": {
      "image/png": "[encoded data removed]",
      "text/plain": [
       "<matplotlib.figure.Figure at 0x7fc9407f7ad0>"
      ]
     },
     "metadata": {},
     "output_type": "display_data"
    }
   ],
   "source": [
    "sns.violinplot(x=\"7\", y=\"2\", data=house, size=6)"
   ]
  },
  {
   "cell_type": "code",
   "execution_count": 47,
   "metadata": {},
   "outputs": [
    {
     "data": {
      "text/plain": [
       "<seaborn.axisgrid.FacetGrid at 0x7fc9401947d0>"
      ]
     },
     "execution_count": 47,
     "metadata": {},
     "output_type": "execute_result"
    },
    {
     "data": {
      "image/png": "[encoded data removed]",
      "text/plain": [
       "<matplotlib.figure.Figure at 0x7fc940194350>"
      ]
     },
     "metadata": {},
     "output_type": "display_data"
    }
   ],
   "source": [
    "sns.FacetGrid(house, hue=\"7\", size=6) \\\n",
    "   .map(sns.kdeplot, \"3\") \\\n",
    "   .add_legend()"
   ]
  },
  {
   "cell_type": "markdown",
   "metadata": {},
   "source": [
    "## Checking target classes"
   ]
  },
  {
   "cell_type": "code",
   "execution_count": 6,
   "metadata": {},
   "outputs": [
    {
     "data": {
      "text/plain": [
       "Text(0,0.5,u'Frequency')"
      ]
     },
     "execution_count": 6,
     "metadata": {},
     "output_type": "execute_result"
    },
    {
     "data": {
      "image/png": "[encoded data removed]",
      "text/plain": [
       "<matplotlib.figure.Figure at 0x7fc94c001550>"
      ]
     },
     "metadata": {},
     "output_type": "display_data"
    }
   ],
   "source": [
    "count_classes = pd.value_counts(house['7'], sort = True).sort_index()\n",
    "count_classes.plot(kind = 'bar')\n",
    "plt.title(\"Data Histogram\")\n",
    "plt.xlabel(\"Class\")\n",
    "plt.ylabel(\"Frequency\")"
   ]
  },
  {
   "cell_type": "code",
   "execution_count": 7,
   "metadata": {},
   "outputs": [
    {
     "name": "stdout",
     "output_type": "stream",
     "text": [
      "1    1802\n",
      "0     452\n",
      "Name: 7, dtype: int64\n"
     ]
    }
   ],
   "source": [
    "print pd.value_counts(house['7'])"
   ]
  },
  {
   "cell_type": "code",
   "execution_count": 8,
   "metadata": {},
   "outputs": [
    {
     "name": "stdout",
     "output_type": "stream",
     "text": [
      "Percentage of data with 0 20.0532386868%\n",
      "Percentage of data with 1 79.9467613132%\n"
     ]
    }
   ],
   "source": [
    "print \"Percentage of data with 0 \"+str((float(pd.value_counts(house['7'])[0])/float(house.shape[0]))*100)+\"%\"\n",
    "print \"Percentage of data with 1 \"+str((float(pd.value_counts(house['7'])[1])/float(house.shape[0]))*100)+\"%\""
   ]
  },
  {
   "cell_type": "markdown",
   "metadata": {},
   "source": [
    "### Data is clearly not balanced"
   ]
  },
  {
   "cell_type": "markdown",
   "metadata": {},
   "source": [
    "### Logistic regression implementation"
   ]
  },
  {
   "cell_type": "code",
   "execution_count": 9,
   "metadata": {},
   "outputs": [],
   "source": [
    "def Sigmoid(x,theta):\n",
    "    z = np.matmul(x,theta);\n",
    "    return (1.0)/(1+np.exp(-z))"
   ]
  },
  {
   "cell_type": "code",
   "execution_count": 10,
   "metadata": {},
   "outputs": [],
   "source": [
    "def costFunction(x,y,theta,lamb):\n",
    "    a = Sigmoid(x,theta);\n",
    "    tmp = np.copy(theta)\n",
    "    tmp[0] = 0 \n",
    "    reg = (lamb/(2*m)) * np.sum(tmp**2)\n",
    "    return (1.0/len(y))*(np.sum(-np.multiply(y,np.log(a))-np.multiply((1-y),np.log(1-a)))+reg)"
   ]
  },
  {
   "cell_type": "code",
   "execution_count": 11,
   "metadata": {},
   "outputs": [],
   "source": [
    "def Gradient(X, y, theta,lamb):\n",
    "    r,c = X.shape\n",
    "    theta = theta.reshape(c,1)\n",
    "    y = y.reshape(r,1)\n",
    "    h = Sigmoid(X,theta)\n",
    "    tmp = np.copy(theta)\n",
    "    tmp[0] = 0\n",
    "    reg = (lamb*tmp)/r\n",
    "    return ((1.0/r)*(X.T.dot(h-y)))+reg"
   ]
  },
  {
   "cell_type": "code",
   "execution_count": 12,
   "metadata": {},
   "outputs": [],
   "source": [
    "def GradientDescent(X,y,theta,alpha,num_iter,lamb):\n",
    "    cost = []\n",
    "    for i in range(num_iter):\n",
    "        l = Sigmoid(X,theta)\n",
    "        error = Sigmoid(X,theta) - y\n",
    "        grad = Gradient(X,y,theta,lamb)\n",
    "        theta = theta - alpha * grad\n",
    "    return theta"
   ]
  },
  {
   "cell_type": "code",
   "execution_count": 13,
   "metadata": {},
   "outputs": [],
   "source": [
    "X = np.ones(shape = [house.shape[0],7])\n",
    "for i in range(house.shape[1]-1):\n",
    "    X[:,i+1] = house[str(i+1)].values\n",
    "y = house['7'].values"
   ]
  },
  {
   "cell_type": "code",
   "execution_count": 14,
   "metadata": {},
   "outputs": [
    {
     "name": "stderr",
     "output_type": "stream",
     "text": [
      "/home/root_007/miniconda2/lib/python2.7/site-packages/sklearn/cross_validation.py:41: DeprecationWarning: This module was deprecated in version 0.18 in favor of the model_selection module into which all the refactored classes and functions are moved. Also note that the interface of the new CV iterators are different from that of this module. This module will be removed in 0.20.\n",
      "  \"This module will be removed in 0.20.\", DeprecationWarning)\n"
     ]
    }
   ],
   "source": [
    "from sklearn.cross_validation import train_test_split\n",
    "X_train, X_test, y_train, y_test = train_test_split(X, y, test_size = 0.3, random_state = 11)"
   ]
  },
  {
   "cell_type": "code",
   "execution_count": 15,
   "metadata": {},
   "outputs": [
    {
     "name": "stdout",
     "output_type": "stream",
     "text": [
      "[]\n",
      "('Test Accuracy ', 83.604135893648447, '%')\n"
     ]
    }
   ],
   "source": [
    "from sklearn.metrics import accuracy_score  \n",
    "alpha = 0.8\n",
    "#species = 2\n",
    "#x = 3\n",
    "#all_theta = np.ones(shape=[x,5])\n",
    "cost_all = []\n",
    "i = 0\n",
    "#for i in range(x):\n",
    "    #print \"aa\"\n",
    "theta = np.zeros((7,1))\n",
    "#tmp_y = np.array(y_train == species[i], dtype = int)\n",
    "optTheta = GradientDescent(X_train, y_train, theta ,alpha,1000,0.2)\n",
    "    #print type(optTheta\n",
    "    #print optTheta\n",
    "#    all_theta[i,:] = optTheta.ravel()\n",
    "#    i = i+1\n",
    "print cost_all\n",
    "#print all_theta.T\n",
    "P = np.where(Sigmoid(X_test,optTheta) >= 0.5, 1, 0) #probability for each flower\n",
    "#print P\n",
    "\n",
    "print(\"Test Accuracy \", accuracy_score(y_test, P) * 100 , '%')"
   ]
  },
  {
   "cell_type": "code",
   "execution_count": 16,
   "metadata": {},
   "outputs": [
    {
     "name": "stdout",
     "output_type": "stream",
     "text": [
      "677\n"
     ]
    },
    {
     "data": {
      "text/html": [
       "<div>\n",
       "<table border=\"1\" class=\"dataframe\">\n",
       "  <thead>\n",
       "    <tr style=\"text-align: right;\">\n",
       "      <th>Predicted</th>\n",
       "      <th>0</th>\n",
       "      <th>1</th>\n",
       "      <th>All</th>\n",
       "    </tr>\n",
       "    <tr>\n",
       "      <th>True</th>\n",
       "      <th></th>\n",
       "      <th></th>\n",
       "      <th></th>\n",
       "    </tr>\n",
       "  </thead>\n",
       "  <tbody>\n",
       "    <tr>\n",
       "      <th>0</th>\n",
       "      <td>29</td>\n",
       "      <td>102</td>\n",
       "      <td>131</td>\n",
       "    </tr>\n",
       "    <tr>\n",
       "      <th>1</th>\n",
       "      <td>9</td>\n",
       "      <td>537</td>\n",
       "      <td>546</td>\n",
       "    </tr>\n",
       "    <tr>\n",
       "      <th>All</th>\n",
       "      <td>38</td>\n",
       "      <td>639</td>\n",
       "      <td>677</td>\n",
       "    </tr>\n",
       "  </tbody>\n",
       "</table>\n",
       "</div>"
      ],
      "text/plain": [
       "Predicted   0    1  All\n",
       "True                   \n",
       "0          29  102  131\n",
       "1           9  537  546\n",
       "All        38  639  677"
      ]
     },
     "execution_count": 16,
     "metadata": {},
     "output_type": "execute_result"
    }
   ],
   "source": [
    "from sklearn.metrics import confusion_matrix\n",
    "print y_test.size\n",
    "pd.crosstab(y_test.ravel(), P.ravel(), rownames=['True'], colnames=['Predicted'], margins=True)"
   ]
  },
  {
   "cell_type": "code",
   "execution_count": 17,
   "metadata": {},
   "outputs": [
    {
     "name": "stdout",
     "output_type": "stream",
     "text": [
      "[ 0.76315789  0.84037559]\n",
      "[ 0.22137405  0.98351648]\n",
      "[ 0.34319527  0.90632911]\n"
     ]
    }
   ],
   "source": [
    "from sklearn.metrics import precision_recall_fscore_support as score\n",
    "precision, recall, fscore, support = score(y_test, P)\n",
    "print precision\n",
    "print recall\n",
    "print fscore"
   ]
  },
  {
   "cell_type": "markdown",
   "metadata": {},
   "source": [
    "### Logistic regression by Library"
   ]
  },
  {
   "cell_type": "code",
   "execution_count": 18,
   "metadata": {},
   "outputs": [],
   "source": [
    "from sklearn import linear_model\n",
    "\n",
    "logreg = linear_model.LogisticRegression()\n",
    "logreg.fit(X_train, y_train)\n",
    "P = logreg.predict(X_test)"
   ]
  },
  {
   "cell_type": "code",
   "execution_count": 19,
   "metadata": {},
   "outputs": [
    {
     "name": "stdout",
     "output_type": "stream",
     "text": [
      "[ 0.76315789  0.84037559]\n",
      "[ 0.22137405  0.98351648]\n",
      "[ 0.34319527  0.90632911]\n"
     ]
    }
   ],
   "source": [
    "from sklearn.metrics import precision_recall_fscore_support as score\n",
    "precision, recall, fscore, support = score(y_test, P)\n",
    "print precision\n",
    "print recall\n",
    "print fscore"
   ]
  },
  {
   "cell_type": "markdown",
   "metadata": {},
   "source": [
    "The scoring for the less represented classes (class 0) are lower than for the classes with more training samples (class 1) unbalanced data is in fact a problem."
   ]
  },
  {
   "cell_type": "code",
   "execution_count": 20,
   "metadata": {},
   "outputs": [
    {
     "data": {
      "text/plain": [
       "(2254, 7)"
      ]
     },
     "execution_count": 20,
     "metadata": {},
     "output_type": "execute_result"
    }
   ],
   "source": [
    "house.shape"
   ]
  },
  {
   "cell_type": "markdown",
   "metadata": {},
   "source": [
    "There are two ways to resample data set\n",
    "1) Oversampling\n",
    "2) Undersampling\n",
    "As data set is small oversampling will give better result"
   ]
  },
  {
   "cell_type": "code",
   "execution_count": 21,
   "metadata": {},
   "outputs": [
    {
     "name": "stdout",
     "output_type": "stream",
     "text": [
      "25228\n",
      "<type 'numpy.ndarray'>\n"
     ]
    }
   ],
   "source": [
    "from imblearn.over_sampling import SMOTE, ADASYN\n",
    "X_resampled, y_resampled = SMOTE(kind='borderline1').fit_sample(X, y)\n",
    "print X_resampled.size\n",
    "print type(y_resampled)"
   ]
  },
  {
   "cell_type": "code",
   "execution_count": 52,
   "metadata": {},
   "outputs": [
    {
     "name": "stdout",
     "output_type": "stream",
     "text": [
      "1.0\n"
     ]
    }
   ],
   "source": [
    "\n",
    "knn = []\n",
    "for i in range(X_resampled.shape[0]):\n",
    "    knn.append((np.append(X_resampled[i],y_resampled[i])).tolist())\n",
    "print knn[0][-1]"
   ]
  },
  {
   "cell_type": "code",
   "execution_count": 23,
   "metadata": {},
   "outputs": [],
   "source": [
    "from sklearn.cross_validation import train_test_split\n",
    "X_train, X_test, y_train, y_test = train_test_split(X_resampled, y_resampled, test_size = 0.3, random_state = 11)"
   ]
  },
  {
   "cell_type": "code",
   "execution_count": 24,
   "metadata": {},
   "outputs": [
    {
     "name": "stdout",
     "output_type": "stream",
     "text": [
      "('Test Accuracy ', 68.669131238447321, '%')\n"
     ]
    }
   ],
   "source": [
    "from sklearn.metrics import accuracy_score  \n",
    "alpha = 0.8\n",
    "cost_all = []\n",
    "i = 0\n",
    "theta = np.zeros((7,1))\n",
    "optTheta = GradientDescent(X_train, y_train, theta ,alpha,1000,0.2)\n",
    "P = np.where(Sigmoid(X_test,optTheta) >= 0.5, 1, 0) #probability for each flower\n",
    "print(\"Test Accuracy \", accuracy_score(y_test, P) * 100 , '%')"
   ]
  },
  {
   "cell_type": "code",
   "execution_count": 25,
   "metadata": {},
   "outputs": [
    {
     "name": "stdout",
     "output_type": "stream",
     "text": [
      "[ 0.74200426  0.64437194]\n",
      "[ 0.61484099  0.76550388]\n",
      "[ 0.67246377  0.69973428]\n"
     ]
    }
   ],
   "source": [
    "from sklearn.metrics import precision_recall_fscore_support as score\n",
    "precision, recall, fscore, support = score(y_test, P)\n",
    "print precision\n",
    "print recall\n",
    "print fscore"
   ]
  },
  {
   "cell_type": "code",
   "execution_count": 26,
   "metadata": {},
   "outputs": [
    {
     "name": "stdout",
     "output_type": "stream",
     "text": [
      "('Test Accuracy ', 69.963031423290204, '%')\n"
     ]
    }
   ],
   "source": [
    "from sklearn import linear_model\n",
    "\n",
    "logreg = linear_model.LogisticRegression()\n",
    "logreg.fit(X_train, y_train)\n",
    "P = logreg.predict(X_test)\n",
    "print(\"Test Accuracy \", accuracy_score(y_test, P) * 100 , '%')"
   ]
  },
  {
   "cell_type": "code",
   "execution_count": 27,
   "metadata": {},
   "outputs": [
    {
     "name": "stdout",
     "output_type": "stream",
     "text": [
      "[ 0.76025918  0.6542811 ]\n",
      "[ 0.62190813  0.78488372]\n",
      "[ 0.68415938  0.71365639]\n"
     ]
    }
   ],
   "source": [
    "from sklearn.metrics import precision_recall_fscore_support as score\n",
    "precision, recall, fscore, support = score(y_test, P)\n",
    "print precision\n",
    "print recall\n",
    "print fscore"
   ]
  },
  {
   "cell_type": "markdown",
   "metadata": {},
   "source": [
    "# K Nearest Neighbour implementation"
   ]
  },
  {
   "cell_type": "code",
   "execution_count": 28,
   "metadata": {},
   "outputs": [],
   "source": [
    "def euclideanDistance(instance1, instance2, length):\n",
    "    distance = 0\n",
    "    for x in range(length):\n",
    "        distance += pow((instance1[x] - instance2[x]), 2)\n",
    "    return math.sqrt(distance)\n"
   ]
  },
  {
   "cell_type": "code",
   "execution_count": 29,
   "metadata": {},
   "outputs": [],
   "source": [
    "def getNeighbors(trainingSet, testInstance, k):\n",
    "    distances = []\n",
    "    length = len(testInstance)-1\n",
    "    for x in range(len(trainingSet)):\n",
    "        dist = euclideanDistance(testInstance, trainingSet[x], length)\n",
    "        #rint str(dist)+\"aa\"\n",
    "        \n",
    "        #print distances\n",
    "\n",
    "        distances.append((trainingSet[x], dist))\n",
    "        \n",
    "    distances.sort(key=operator.itemgetter(1))\n",
    "    #print distances\n",
    "    neighbors = []\n",
    "    for x in range(k):\n",
    "        neighbors.append(distances[x][0])\n",
    "    #print \"aaaa\"\n",
    "    #print neighbors\n",
    "    return neighbors\n",
    " "
   ]
  },
  {
   "cell_type": "code",
   "execution_count": 30,
   "metadata": {},
   "outputs": [],
   "source": [
    "def getResponse(neighbors):\n",
    "    classVotes = {}\n",
    "    #print \"dd\"\n",
    "    #print neighbors[0][len(neighbors[0])-1]\n",
    "    for x in range(len(neighbors)):\n",
    "        response = neighbors[x][-1]\n",
    "        #print \"cccc\"\n",
    "        #print response\n",
    "        if response in classVotes:\n",
    "            classVotes[response] += 1\n",
    "        else:\n",
    "            classVotes[response] = 1\n",
    "    #print \"bbb\"\n",
    "    #print classVotes\n",
    "    #for key in sorted(classVotes.iterkeys()):\n",
    "        #return key\n",
    "    sortedVotes = sorted(classVotes.iteritems(), key=operator.itemgetter(1), reverse=True)\n",
    "    #print sortedVotes\n",
    "    return sortedVotes[0][0]\n",
    " "
   ]
  },
  {
   "cell_type": "code",
   "execution_count": 31,
   "metadata": {},
   "outputs": [],
   "source": [
    "def getAccuracy(testSet, predictions):\n",
    "    correct = 0\n",
    "    #print testSet[0][-1]\n",
    "    #print predictions[0]\n",
    "    #print len(predictions)\n",
    "    #print len(testSet)\n",
    "    for x in range(len(testSet)):\n",
    "        if testSet[x][-1] == predictions[x]:\n",
    "            correct += 1\n",
    "    return (correct/float(len(testSet))) * 100.0\n"
   ]
  },
  {
   "cell_type": "code",
   "execution_count": 41,
   "metadata": {},
   "outputs": [
    {
     "name": "stdout",
     "output_type": "stream",
     "text": [
      "Accuracy: 86.25827814569537%\n",
      "604\n",
      "[ 0.84272997  0.88764045]\n",
      "[ 0.9044586   0.81724138]\n",
      "[ 0.87250384  0.85098743]\n"
     ]
    }
   ],
   "source": [
    "from sklearn.metrics import precision_recall_fscore_support as score\n",
    "def main():\n",
    "    # prepare data\n",
    "    trainingSet=[]\n",
    "    testSet=[]\n",
    "    split = 0.3\n",
    "    np.random.shuffle(knn)\n",
    "    trainingSet = knn[0:3000]\n",
    "    testSet = knn[3000:3604]\n",
    "    #print testSet[0]                                        \n",
    "    predictions=[]\n",
    "    k = 11\n",
    "    for x in range(len(testSet)):\n",
    "        neighbors = getNeighbors(trainingSet, testSet[x], k)\n",
    "        #print neighbors\n",
    "        result = getResponse(neighbors)\n",
    "        #print result\n",
    "        predictions.append(result)\n",
    "        #print('> predicted=' + repr(result) + ', actual=' + repr(testSet[x][-1]))\n",
    "    accuracy = getAccuracy(testSet, predictions)\n",
    "    test = np.ones(len(testSet))\n",
    "    for i in range(len(testSet)):\n",
    "        test[i] = testSet[i][-1]\n",
    "    print('Accuracy: ' + repr(accuracy) + '%')\n",
    "    print len(test)\n",
    "    precision, recall, fscore, support = score(test, predictions)\n",
    "    print precision\n",
    "    print recall\n",
    "    print fscore\n",
    "main()\n"
   ]
  },
  {
   "cell_type": "code",
   "execution_count": null,
   "metadata": {},
   "outputs": [],
   "source": []
  },
  {
   "cell_type": "code",
   "execution_count": null,
   "metadata": {},
   "outputs": [],
   "source": []
  }
 ],
 "metadata": {
  "kernelspec": {
   "display_name": "Python 2",
   "language": "python",
   "name": "python2"
  },
  "language_info": {
   "codemirror_mode": {
    "name": "ipython",
    "version": 2
   },
   "file_extension": ".py",
   "mimetype": "text/x-python",
   "name": "python",
   "nbconvert_exporter": "python",
   "pygments_lexer": "ipython2",
   "version": "2.7.12"
  }
 },
 "nbformat": 4,
 "nbformat_minor": 2
}
