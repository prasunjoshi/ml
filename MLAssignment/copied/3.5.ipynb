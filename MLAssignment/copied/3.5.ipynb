{
 "cells": [
  {
   "cell_type": "code",
   "execution_count": 46,
   "metadata": {
    "collapsed": true
   },
   "outputs": [],
   "source": [
    "import pandas as pd\n",
    "import numpy as np\n",
    "import seaborn as sns\n",
    "import matplotlib.pyplot as plt\n",
    "\n",
    "%matplotlib inline\n",
    "plt.style.use('bmh')"
   ]
  },
  {
   "cell_type": "code",
   "execution_count": 47,
   "metadata": {
    "collapsed": true
   },
   "outputs": [],
   "source": [
    "df = pd.read_csv('/Users/palash/sem2/ML1/Assignment_1/D23.csv',index_col=0)\n"
   ]
  },
  {
   "cell_type": "code",
   "execution_count": 48,
   "metadata": {},
   "outputs": [
    {
     "data": {
      "text/html": [
       "<div>\n",
       "<style>\n",
       "    .dataframe thead tr:only-child th {\n",
       "        text-align: right;\n",
       "    }\n",
       "\n",
       "    .dataframe thead th {\n",
       "        text-align: left;\n",
       "    }\n",
       "\n",
       "    .dataframe tbody tr th {\n",
       "        vertical-align: top;\n",
       "    }\n",
       "</style>\n",
       "<table border=\"1\" class=\"dataframe\">\n",
       "  <thead>\n",
       "    <tr style=\"text-align: right;\">\n",
       "      <th></th>\n",
       "      <th>1</th>\n",
       "      <th>2</th>\n",
       "      <th>3</th>\n",
       "      <th>4</th>\n",
       "      <th>5</th>\n",
       "      <th>6</th>\n",
       "      <th>7</th>\n",
       "    </tr>\n",
       "  </thead>\n",
       "  <tbody>\n",
       "    <tr>\n",
       "      <th>count</th>\n",
       "      <td>2254.000000</td>\n",
       "      <td>2254.000000</td>\n",
       "      <td>2254.000000</td>\n",
       "      <td>2254.000000</td>\n",
       "      <td>2254.000000</td>\n",
       "      <td>2254.000000</td>\n",
       "      <td>2254.000000</td>\n",
       "    </tr>\n",
       "    <tr>\n",
       "      <th>mean</th>\n",
       "      <td>0.055471</td>\n",
       "      <td>0.097492</td>\n",
       "      <td>0.015423</td>\n",
       "      <td>0.047272</td>\n",
       "      <td>0.052910</td>\n",
       "      <td>0.052747</td>\n",
       "      <td>0.799468</td>\n",
       "    </tr>\n",
       "    <tr>\n",
       "      <th>std</th>\n",
       "      <td>0.145812</td>\n",
       "      <td>0.174923</td>\n",
       "      <td>0.121642</td>\n",
       "      <td>0.064531</td>\n",
       "      <td>0.076833</td>\n",
       "      <td>0.071523</td>\n",
       "      <td>0.400488</td>\n",
       "    </tr>\n",
       "    <tr>\n",
       "      <th>min</th>\n",
       "      <td>-0.458801</td>\n",
       "      <td>-0.717313</td>\n",
       "      <td>-0.607233</td>\n",
       "      <td>0.000000</td>\n",
       "      <td>0.000000</td>\n",
       "      <td>0.000000</td>\n",
       "      <td>0.000000</td>\n",
       "    </tr>\n",
       "    <tr>\n",
       "      <th>25%</th>\n",
       "      <td>-0.037985</td>\n",
       "      <td>-0.008967</td>\n",
       "      <td>-0.051737</td>\n",
       "      <td>0.011973</td>\n",
       "      <td>0.008963</td>\n",
       "      <td>0.008504</td>\n",
       "      <td>1.000000</td>\n",
       "    </tr>\n",
       "    <tr>\n",
       "      <th>50%</th>\n",
       "      <td>0.062039</td>\n",
       "      <td>0.107267</td>\n",
       "      <td>0.010764</td>\n",
       "      <td>0.023644</td>\n",
       "      <td>0.022970</td>\n",
       "      <td>0.022632</td>\n",
       "      <td>1.000000</td>\n",
       "    </tr>\n",
       "    <tr>\n",
       "      <th>75%</th>\n",
       "      <td>0.134210</td>\n",
       "      <td>0.225356</td>\n",
       "      <td>0.078702</td>\n",
       "      <td>0.053722</td>\n",
       "      <td>0.062584</td>\n",
       "      <td>0.070451</td>\n",
       "      <td>1.000000</td>\n",
       "    </tr>\n",
       "    <tr>\n",
       "      <th>max</th>\n",
       "      <td>0.774888</td>\n",
       "      <td>0.701873</td>\n",
       "      <td>0.656722</td>\n",
       "      <td>0.676036</td>\n",
       "      <td>0.645487</td>\n",
       "      <td>0.691162</td>\n",
       "      <td>1.000000</td>\n",
       "    </tr>\n",
       "  </tbody>\n",
       "</table>\n",
       "</div>"
      ],
      "text/plain": [
       "                 1            2            3            4            5  \\\n",
       "count  2254.000000  2254.000000  2254.000000  2254.000000  2254.000000   \n",
       "mean      0.055471     0.097492     0.015423     0.047272     0.052910   \n",
       "std       0.145812     0.174923     0.121642     0.064531     0.076833   \n",
       "min      -0.458801    -0.717313    -0.607233     0.000000     0.000000   \n",
       "25%      -0.037985    -0.008967    -0.051737     0.011973     0.008963   \n",
       "50%       0.062039     0.107267     0.010764     0.023644     0.022970   \n",
       "75%       0.134210     0.225356     0.078702     0.053722     0.062584   \n",
       "max       0.774888     0.701873     0.656722     0.676036     0.645487   \n",
       "\n",
       "                 6            7  \n",
       "count  2254.000000  2254.000000  \n",
       "mean      0.052747     0.799468  \n",
       "std       0.071523     0.400488  \n",
       "min       0.000000     0.000000  \n",
       "25%       0.008504     1.000000  \n",
       "50%       0.022632     1.000000  \n",
       "75%       0.070451     1.000000  \n",
       "max       0.691162     1.000000  "
      ]
     },
     "execution_count": 48,
     "metadata": {},
     "output_type": "execute_result"
    }
   ],
   "source": [
    "df.describe()"
   ]
  },
  {
   "cell_type": "code",
   "execution_count": 49,
   "metadata": {},
   "outputs": [
    {
     "name": "stdout",
     "output_type": "stream",
     "text": [
      "<class 'pandas.core.frame.DataFrame'>\n",
      "Int64Index: 2254 entries, 0 to 2253\n",
      "Data columns (total 7 columns):\n",
      "1    2254 non-null float64\n",
      "2    2254 non-null float64\n",
      "3    2254 non-null float64\n",
      "4    2254 non-null float64\n",
      "5    2254 non-null float64\n",
      "6    2254 non-null float64\n",
      "7    2254 non-null int64\n",
      "dtypes: float64(6), int64(1)\n",
      "memory usage: 140.9 KB\n"
     ]
    }
   ],
   "source": [
    "df.info()"
   ]
  },
  {
   "cell_type": "code",
   "execution_count": 50,
   "metadata": {},
   "outputs": [
    {
     "data": {
      "image/png": "[encoded data removed]",
      "text/plain": [
       "<matplotlib.figure.Figure at 0x115f91208>"
      ]
     },
     "metadata": {},
     "output_type": "display_data"
    }
   ],
   "source": [
    "sns.set()\n",
    "df.hist(layout=(3,3))\n",
    "plt.show()"
   ]
  },
  {
   "cell_type": "code",
   "execution_count": 51,
   "metadata": {},
   "outputs": [
    {
     "data": {
      "image/png": "[encoded data removed]",
      "text/plain": [
       "<matplotlib.figure.Figure at 0x113159e10>"
      ]
     },
     "metadata": {},
     "output_type": "display_data"
    },
    {
     "name": "stdout",
     "output_type": "stream",
     "text": [
      "          1         2         3         4         5         6         7\n",
      "1  1.000000 -0.213905  0.055283 -0.040040  0.017195 -0.081457 -0.117944\n",
      "2 -0.213905  1.000000 -0.045076 -0.054145 -0.079767  0.112730  0.072545\n",
      "3  0.055283 -0.045076  1.000000 -0.017537 -0.069442  0.010132  0.004242\n",
      "4 -0.040040 -0.054145 -0.017537  1.000000  0.663467  0.575025 -0.398477\n",
      "5  0.017195 -0.079767 -0.069442  0.663467  1.000000  0.589606 -0.491877\n",
      "6 -0.081457  0.112730  0.010132  0.575025  0.589606  1.000000 -0.279816\n",
      "7 -0.117944  0.072545  0.004242 -0.398477 -0.491877 -0.279816  1.000000\n"
     ]
    }
   ],
   "source": [
    "correlations = df.corr()\n",
    "# plot correlation matrix\n",
    "fig = plt.figure(figsize=(5,5))\n",
    "ax = fig.add_subplot(111)\n",
    "cax = ax.matshow(correlations, vmin=-1, vmax=1)\n",
    "fig.colorbar(cax)\n",
    "ticks = np.arange(0,8,1)\n",
    "ax.set_xticks(ticks)\n",
    "ax.set_yticks(ticks)\n",
    "ax.set_xticklabels(df.columns)\n",
    "ax.set_yticklabels(df.columns)\n",
    "plt.show()\n",
    "print(correlations)"
   ]
  },
  {
   "cell_type": "code",
   "execution_count": 52,
   "metadata": {},
   "outputs": [
    {
     "data": {
      "text/html": [
       "<div>\n",
       "<style>\n",
       "    .dataframe thead tr:only-child th {\n",
       "        text-align: right;\n",
       "    }\n",
       "\n",
       "    .dataframe thead th {\n",
       "        text-align: left;\n",
       "    }\n",
       "\n",
       "    .dataframe tbody tr th {\n",
       "        vertical-align: top;\n",
       "    }\n",
       "</style>\n",
       "<table border=\"1\" class=\"dataframe\">\n",
       "  <thead>\n",
       "    <tr style=\"text-align: right;\">\n",
       "      <th></th>\n",
       "      <th>0</th>\n",
       "      <th>1</th>\n",
       "      <th>2</th>\n",
       "      <th>3</th>\n",
       "    </tr>\n",
       "  </thead>\n",
       "  <tbody>\n",
       "    <tr>\n",
       "      <th>count</th>\n",
       "      <td>2254.000000</td>\n",
       "      <td>2254.000000</td>\n",
       "      <td>2254.000000</td>\n",
       "      <td>2254.000000</td>\n",
       "    </tr>\n",
       "    <tr>\n",
       "      <th>mean</th>\n",
       "      <td>0.028559</td>\n",
       "      <td>0.029572</td>\n",
       "      <td>0.030375</td>\n",
       "      <td>0.799468</td>\n",
       "    </tr>\n",
       "    <tr>\n",
       "      <th>std</th>\n",
       "      <td>0.022896</td>\n",
       "      <td>0.027750</td>\n",
       "      <td>0.029866</td>\n",
       "      <td>0.400488</td>\n",
       "    </tr>\n",
       "    <tr>\n",
       "      <th>min</th>\n",
       "      <td>0.000000</td>\n",
       "      <td>0.000000</td>\n",
       "      <td>0.000000</td>\n",
       "      <td>0.000000</td>\n",
       "    </tr>\n",
       "    <tr>\n",
       "      <th>25%</th>\n",
       "      <td>0.011973</td>\n",
       "      <td>0.008963</td>\n",
       "      <td>0.008504</td>\n",
       "      <td>1.000000</td>\n",
       "    </tr>\n",
       "    <tr>\n",
       "      <th>50%</th>\n",
       "      <td>0.023626</td>\n",
       "      <td>0.022968</td>\n",
       "      <td>0.022620</td>\n",
       "      <td>1.000000</td>\n",
       "    </tr>\n",
       "    <tr>\n",
       "      <th>75%</th>\n",
       "      <td>0.036415</td>\n",
       "      <td>0.039900</td>\n",
       "      <td>0.040457</td>\n",
       "      <td>1.000000</td>\n",
       "    </tr>\n",
       "    <tr>\n",
       "      <th>max</th>\n",
       "      <td>0.111759</td>\n",
       "      <td>0.129103</td>\n",
       "      <td>0.124212</td>\n",
       "      <td>1.000000</td>\n",
       "    </tr>\n",
       "  </tbody>\n",
       "</table>\n",
       "</div>"
      ],
      "text/plain": [
       "                 0            1            2            3\n",
       "count  2254.000000  2254.000000  2254.000000  2254.000000\n",
       "mean      0.028559     0.029572     0.030375     0.799468\n",
       "std       0.022896     0.027750     0.029866     0.400488\n",
       "min       0.000000     0.000000     0.000000     0.000000\n",
       "25%       0.011973     0.008963     0.008504     1.000000\n",
       "50%       0.023626     0.022968     0.022620     1.000000\n",
       "75%       0.036415     0.039900     0.040457     1.000000\n",
       "max       0.111759     0.129103     0.124212     1.000000"
      ]
     },
     "execution_count": 52,
     "metadata": {},
     "output_type": "execute_result"
    }
   ],
   "source": [
    "df1 = df.drop(['1','2','3','7'],axis=1)\n",
    "\n",
    "final_list=[]\n",
    "for i in df1.columns:\n",
    "    elements = np.array(df1[i])\n",
    "    mean = np.mean(elements, axis=0)\n",
    "    sd = np.std(elements, axis=0)\n",
    "    median = np.median(elements, axis=0)\n",
    "    temp_list=[]\n",
    "    for x in elements:\n",
    "        if(x > mean - (1 * sd) and x < mean+ sd):\n",
    "            temp_list.append(x)\n",
    "        else:\n",
    "            temp_list.append(median)\n",
    "    final_list.append(temp_list)\n",
    "final_list =np.asarray(final_list)\n",
    "df1= np.transpose(pd.DataFrame(final_list))\n",
    "df1['3']=  df['7'] \n",
    "df1.describe()"
   ]
  },
  {
   "cell_type": "code",
   "execution_count": 53,
   "metadata": {
    "scrolled": true
   },
   "outputs": [
    {
     "data": {
      "text/plain": [
       "array([[ 0.02364365,  0.02296981,  0.02263195,  0.        ],\n",
       "       [ 0.0075273 ,  0.00379522,  0.00388584,  1.        ],\n",
       "       [ 0.02252391,  0.05637004,  0.07948863,  1.        ],\n",
       "       ..., \n",
       "       [ 0.01146234,  0.00555091,  0.00639484,  0.        ],\n",
       "       [ 0.01206102,  0.0073163 ,  0.00438654,  1.        ],\n",
       "       [ 0.08814157,  0.05232247,  0.08491212,  0.        ]])"
      ]
     },
     "execution_count": 53,
     "metadata": {},
     "output_type": "execute_result"
    }
   ],
   "source": [
    "from sklearn.model_selection import train_test_split\n",
    "train_set, test_set = train_test_split(df1, test_size=0.2, random_state=42)\n",
    "train_set=np.asarray(train_set)\n",
    "test_set=np.asarray(test_set)\n",
    "train_set"
   ]
  },
  {
   "cell_type": "code",
   "execution_count": 54,
   "metadata": {
    "collapsed": true
   },
   "outputs": [],
   "source": [
    "index=[]\n",
    "for i in range(len(test_set)):\n",
    "    index.append(test_set[i][3])\n",
    "index=np.asarray(index)"
   ]
  },
  {
   "cell_type": "markdown",
   "metadata": {},
   "source": [
    "# 3.5 Logistic Regression(Library)"
   ]
  },
  {
   "cell_type": "code",
   "execution_count": 55,
   "metadata": {
    "collapsed": true
   },
   "outputs": [],
   "source": [
    "from sklearn import linear_model\n",
    "from sklearn.linear_model import LogisticRegression\n",
    "logreg = linear_model.LogisticRegression()\n",
    "train_set, test_set = train_test_split(df1, test_size=0.2, random_state=42)\n",
    "X_train =train_set[[0,1,2]]\n",
    "y= train_set[['3']]\n",
    "y_train= np.ravel(y)"
   ]
  },
  {
   "cell_type": "code",
   "execution_count": 56,
   "metadata": {
    "collapsed": true
   },
   "outputs": [],
   "source": [
    "X_test = test_set[[0,1,2]]\n",
    "y_test = test_set['3']\n",
    "y_test = np.ravel(y_test)"
   ]
  },
  {
   "cell_type": "code",
   "execution_count": 57,
   "metadata": {},
   "outputs": [
    {
     "data": {
      "text/plain": [
       "LogisticRegression(C=1.0, class_weight=None, dual=False, fit_intercept=True,\n",
       "          intercept_scaling=1, max_iter=100, multi_class='ovr', n_jobs=1,\n",
       "          penalty='l2', random_state=None, solver='liblinear', tol=0.0001,\n",
       "          verbose=0, warm_start=False)"
      ]
     },
     "execution_count": 57,
     "metadata": {},
     "output_type": "execute_result"
    }
   ],
   "source": [
    "logreg.fit(X_train, y_train)"
   ]
  },
  {
   "cell_type": "code",
   "execution_count": null,
   "metadata": {
    "collapsed": true
   },
   "outputs": [],
   "source": []
  },
  {
   "cell_type": "code",
   "execution_count": 58,
   "metadata": {
    "collapsed": true
   },
   "outputs": [],
   "source": [
    "y_label = logreg.predict(X_test)\n",
    "y_score = logreg.predict_proba(X_test)[:, 1]\n"
   ]
  },
  {
   "cell_type": "code",
   "execution_count": 59,
   "metadata": {},
   "outputs": [
    {
     "data": {
      "text/plain": [
       "0.78713968957871394"
      ]
     },
     "execution_count": 59,
     "metadata": {},
     "output_type": "execute_result"
    }
   ],
   "source": [
    "from sklearn.metrics import accuracy_score , precision_score, recall_score, f1_score, roc_auc_score\n",
    "accuracy_score(y_test,y_label,normalize=True, sample_weight=None)\n"
   ]
  },
  {
   "cell_type": "code",
   "execution_count": 60,
   "metadata": {},
   "outputs": [
    {
     "data": {
      "text/plain": [
       "0.78713968957871394"
      ]
     },
     "execution_count": 60,
     "metadata": {},
     "output_type": "execute_result"
    }
   ],
   "source": [
    "precision_score(y_test,y_label,sample_weight=None)"
   ]
  },
  {
   "cell_type": "code",
   "execution_count": 61,
   "metadata": {},
   "outputs": [
    {
     "data": {
      "text/plain": [
       "1.0"
      ]
     },
     "execution_count": 61,
     "metadata": {},
     "output_type": "execute_result"
    }
   ],
   "source": [
    "recall_score(y_test,y_label,sample_weight=None)"
   ]
  },
  {
   "cell_type": "code",
   "execution_count": 62,
   "metadata": {},
   "outputs": [
    {
     "data": {
      "text/plain": [
       "0.88089330024813894"
      ]
     },
     "execution_count": 62,
     "metadata": {},
     "output_type": "execute_result"
    }
   ],
   "source": [
    "f1_score(y_test,y_label,sample_weight=None)"
   ]
  },
  {
   "cell_type": "code",
   "execution_count": 63,
   "metadata": {},
   "outputs": [
    {
     "data": {
      "text/plain": [
       "0.71791373239436618"
      ]
     },
     "execution_count": 63,
     "metadata": {},
     "output_type": "execute_result"
    }
   ],
   "source": [
    "roc_auc_score(y_test, y_score)"
   ]
  },
  {
   "cell_type": "code",
   "execution_count": null,
   "metadata": {
    "collapsed": true
   },
   "outputs": [],
   "source": []
  },
  {
   "cell_type": "code",
   "execution_count": null,
   "metadata": {
    "collapsed": true
   },
   "outputs": [],
   "source": []
  }
 ],
 "metadata": {
  "kernelspec": {
   "display_name": "Python 3",
   "language": "python",
   "name": "python3"
  },
  "language_info": {
   "codemirror_mode": {
    "name": "ipython",
    "version": 3
   },
   "file_extension": ".py",
   "mimetype": "text/x-python",
   "name": "python",
   "nbconvert_exporter": "python",
   "pygments_lexer": "ipython3",
   "version": "3.5.2"
  }
 },
 "nbformat": 4,
 "nbformat_minor": 2
}
