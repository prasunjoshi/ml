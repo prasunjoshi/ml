{
 "cells": [
  {
   "cell_type": "code",
   "execution_count": 18,
   "metadata": {},
   "outputs": [
    {
     "data": {
      "text/plain": [
       "pandas.core.series.Series"
      ]
     },
     "execution_count": 18,
     "metadata": {},
     "output_type": "execute_result"
    }
   ],
   "source": [
    "import pandas as pd\n",
    "import numpy as np\n",
    "\n",
    "df = pd.read_csv('/Users/palash/sem2/ML1/Assignment_1/D23.csv',index_col=0)\n",
    "type(df['7'])\n"
   ]
  },
  {
   "cell_type": "code",
   "execution_count": 19,
   "metadata": {
    "collapsed": true
   },
   "outputs": [],
   "source": [
    "df1 = df.drop(['1','2','3','7'],axis=1)\n",
    "\n",
    "final_list=[]\n",
    "for i in df1.columns:\n",
    "    elements = np.array(df1[i])\n",
    "    mean = np.mean(elements, axis=0)\n",
    "    sd = np.std(elements, axis=0)\n",
    "    median = np.median(elements, axis=0)\n",
    "    temp_list=[]\n",
    "    for x in elements:\n",
    "        if(x > mean - (1 * sd) and x < mean+ sd):\n",
    "            temp_list.append(x)\n",
    "        else:\n",
    "            temp_list.append(median)\n",
    "    final_list.append(temp_list)\n",
    "final_list =np.asarray(final_list)\n",
    "df1= np.transpose(pd.DataFrame(final_list))\n",
    "df1['3']=  df['7'] \n"
   ]
  },
  {
   "cell_type": "code",
   "execution_count": 20,
   "metadata": {
    "collapsed": true
   },
   "outputs": [],
   "source": [
    "from sklearn.model_selection import train_test_split\n",
    "train_set, test_set = train_test_split(df1, test_size=0.2, random_state=42)\n",
    "from sklearn.model_selection import StratifiedShuffleSplit\n",
    "split = StratifiedShuffleSplit(n_splits=1, test_size=0.2, random_state=42)"
   ]
  },
  {
   "cell_type": "code",
   "execution_count": 21,
   "metadata": {
    "collapsed": true
   },
   "outputs": [],
   "source": [
    "test_label=test_set['3']\n",
    "test_label=np.asarray(test_label)\n"
   ]
  },
  {
   "cell_type": "code",
   "execution_count": 22,
   "metadata": {
    "collapsed": true
   },
   "outputs": [],
   "source": [
    "df3 = test_set[[0,1,2]]\n",
    "df3 = np.asarray(df3)\n",
    "df3\n",
    "index=test_set['3']\n",
    "index = np.asarray(index)"
   ]
  },
  {
   "cell_type": "code",
   "execution_count": 23,
   "metadata": {},
   "outputs": [
    {
     "data": {
      "text/plain": [
       "array([[ 0.02364365,  0.02296981,  0.02263195],\n",
       "       [ 0.0075273 ,  0.00379522,  0.00388584],\n",
       "       [ 0.02252391,  0.05637004,  0.07948863],\n",
       "       ..., \n",
       "       [ 0.01146234,  0.00555091,  0.00639484],\n",
       "       [ 0.01206102,  0.0073163 ,  0.00438654],\n",
       "       [ 0.08814157,  0.05232247,  0.08491212]])"
      ]
     },
     "execution_count": 23,
     "metadata": {},
     "output_type": "execute_result"
    }
   ],
   "source": [
    "df1 = train_set[[0,1,2]]\n",
    "X=np.asarray(df1)\n",
    "X"
   ]
  },
  {
   "cell_type": "code",
   "execution_count": 24,
   "metadata": {
    "collapsed": true
   },
   "outputs": [],
   "source": [
    "y=train_set['3']\n",
    "y=np.asarray(y)\n",
    "ones = np.ones(len(X))\n",
    "X = np.column_stack((ones,X))\n",
    "ones = np.ones(len(df3))\n",
    "df3 = np.column_stack((ones,df3))\n",
    "eta = ((X.T.dot(X))*2)/len(train_set)\n",
    "eta = np.linalg.inv(eta)"
   ]
  },
  {
   "cell_type": "code",
   "execution_count": 25,
   "metadata": {},
   "outputs": [
    {
     "data": {
      "text/plain": [
       "array([  2.2941892 , -13.91108339,  -3.89626463,  -9.26173402])"
      ]
     },
     "execution_count": 25,
     "metadata": {},
     "output_type": "execute_result"
    }
   ],
   "source": [
    "theta=np.array([0,0,0,0])\n",
    "\n",
    "for i in range(1500):\n",
    "    hypothesis=X.dot(theta)\n",
    "    sigmoid=1.0/(1+np.exp(-hypothesis))\n",
    "    val=(1.0/len(X))*(X.T).dot(sigmoid - y)\n",
    "    theta = theta -(eta.dot(val))\n",
    "theta"
   ]
  },
  {
   "cell_type": "code",
   "execution_count": 26,
   "metadata": {
    "collapsed": true
   },
   "outputs": [],
   "source": [
    "predicted_probability=df3.dot(theta)\n",
    "predicted_sigmoid=1.0/(1+np.exp(-predicted_probability))"
   ]
  },
  {
   "cell_type": "code",
   "execution_count": 27,
   "metadata": {
    "collapsed": true
   },
   "outputs": [],
   "source": [
    "predict=[]\n",
    "for i in range(len(test_set)):\n",
    "    if(predicted_sigmoid[i]>0.5):\n",
    "        predict.append(1)\n",
    "    else:\n",
    "        predict.append(0)\n",
    "predict=np.asarray(predict)"
   ]
  },
  {
   "cell_type": "code",
   "execution_count": 28,
   "metadata": {},
   "outputs": [
    {
     "data": {
      "text/plain": [
       "0.7915742793791575"
      ]
     },
     "execution_count": 28,
     "metadata": {},
     "output_type": "execute_result"
    }
   ],
   "source": [
    "tp=0\n",
    "tn=0\n",
    "fp=0\n",
    "fn=0\n",
    "for i in range(len(test_set)):\n",
    "    if(predict[i] == 1 and predict[i] == index[i]):\n",
    "        tp+=1\n",
    "    elif(predict[i] == 0 and predict[i] == index[i]):\n",
    "        tn+=1\n",
    "    elif(predict[i] == 1 and predict[i] != index[i]):\n",
    "        fp+=1\n",
    "    else:\n",
    "        fn+=1\n",
    "accuracy = float(tp+tn)/len(test_set)\n",
    "accuracy"
   ]
  },
  {
   "cell_type": "code",
   "execution_count": 29,
   "metadata": {},
   "outputs": [
    {
     "data": {
      "text/plain": [
       "0.7906458797327395"
      ]
     },
     "execution_count": 29,
     "metadata": {},
     "output_type": "execute_result"
    }
   ],
   "source": [
    "precision = float(tp)/(tp+fp)\n",
    "precision"
   ]
  },
  {
   "cell_type": "code",
   "execution_count": 30,
   "metadata": {},
   "outputs": [
    {
     "data": {
      "text/plain": [
       "1.0"
      ]
     },
     "execution_count": 30,
     "metadata": {},
     "output_type": "execute_result"
    }
   ],
   "source": [
    "recall=float(tp)/(tp+fn)\n",
    "recall"
   ]
  },
  {
   "cell_type": "code",
   "execution_count": 31,
   "metadata": {},
   "outputs": [
    {
     "data": {
      "text/plain": [
       "0.8830845771144279"
      ]
     },
     "execution_count": 31,
     "metadata": {},
     "output_type": "execute_result"
    }
   ],
   "source": [
    "f_measure=float(tp)/(tp+((fn+fp)/2))\n",
    "f_measure"
   ]
  },
  {
   "cell_type": "code",
   "execution_count": 32,
   "metadata": {
    "collapsed": true
   },
   "outputs": [],
   "source": [
    "# AUC calculation\n",
    "from sklearn.metrics import *\n",
    "fpr, tpr, thresholds = roc_curve(index, predicted_sigmoid)\n"
   ]
  },
  {
   "cell_type": "code",
   "execution_count": 33,
   "metadata": {
    "collapsed": true
   },
   "outputs": [],
   "source": [
    "import itertools\n",
    "import operator\n",
    "\n",
    "def auc_from_fpr_tpr(fpr, tpr, trapezoid=False):\n",
    "    inds = [i for (i, (s, e)) in enumerate(list(zip(fpr[: -1], fpr[1: ]))) if s != e] + [len(fpr) - 1]\n",
    "    fpr, tpr = fpr[inds], tpr[inds]\n",
    "    area = 0\n",
    "    ft = zip(fpr, tpr)\n",
    "    for p0, p1 in list(zip(fpr[: -1], fpr[1: ])):\n",
    "        area += p0\n",
    "    return area"
   ]
  },
  {
   "cell_type": "code",
   "execution_count": 41,
   "metadata": {},
   "outputs": [
    {
     "data": {
      "text/plain": [
       "28.937500000000004"
      ]
     },
     "execution_count": 41,
     "metadata": {},
     "output_type": "execute_result"
    }
   ],
   "source": [
    "auc_from_fpr_tpr(fpr,tpr)"
   ]
  },
  {
   "cell_type": "code",
   "execution_count": 38,
   "metadata": {},
   "outputs": [
    {
     "data": {
      "text/plain": [
       "0.72161091549295764"
      ]
     },
     "execution_count": 38,
     "metadata": {},
     "output_type": "execute_result"
    }
   ],
   "source": [
    "\n",
    "roc_auc_score(index, predicted_sigmoid)\n"
   ]
  },
  {
   "cell_type": "code",
   "execution_count": null,
   "metadata": {
    "collapsed": true
   },
   "outputs": [],
   "source": []
  },
  {
   "cell_type": "code",
   "execution_count": null,
   "metadata": {
    "collapsed": true
   },
   "outputs": [],
   "source": []
  }
 ],
 "metadata": {
  "kernelspec": {
   "display_name": "Python 3",
   "language": "python",
   "name": "python3"
  },
  "language_info": {
   "codemirror_mode": {
    "name": "ipython",
    "version": 3
   },
   "file_extension": ".py",
   "mimetype": "text/x-python",
   "name": "python",
   "nbconvert_exporter": "python",
   "pygments_lexer": "ipython3",
   "version": "3.6.3"
  }
 },
 "nbformat": 4,
 "nbformat_minor": 2
}
