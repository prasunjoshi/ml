{
 "cells": [
  {
   "cell_type": "code",
   "execution_count": 1,
   "metadata": {},
   "outputs": [
    {
     "data": {
      "text/plain": [
       "pandas.core.series.Series"
      ]
     },
     "execution_count": 1,
     "metadata": {},
     "output_type": "execute_result"
    }
   ],
   "source": [
    "import pandas as pd\n",
    "import numpy as np\n",
    "\n",
    "df = pd.read_csv('/Users/palash/sem2/ML1/Assignment_1/D23.csv',index_col=0)\n",
    "type(df['7'])"
   ]
  },
  {
   "cell_type": "code",
   "execution_count": 2,
   "metadata": {
    "collapsed": true
   },
   "outputs": [],
   "source": [
    "df1 = df.drop(['1','2','3','7'],axis=1)\n",
    "\n",
    "final_list=[]\n",
    "for i in df1.columns:\n",
    "    elements = np.array(df1[i])\n",
    "    mean = np.mean(elements, axis=0)\n",
    "    sd = np.std(elements, axis=0)\n",
    "    median = np.median(elements, axis=0)\n",
    "    temp_list=[]\n",
    "    for x in elements:\n",
    "        if(x > mean - (1 * sd) and x < mean+ sd):\n",
    "            temp_list.append(x)\n",
    "        else:\n",
    "            temp_list.append(median)\n",
    "    final_list.append(temp_list)\n",
    "final_list =np.asarray(final_list)\n",
    "df1= np.transpose(pd.DataFrame(final_list))\n",
    "df1['3']=  df['7'] \n"
   ]
  },
  {
   "cell_type": "code",
   "execution_count": 3,
   "metadata": {
    "collapsed": true
   },
   "outputs": [],
   "source": [
    "from sklearn.model_selection import train_test_split\n",
    "train_set, test_set = train_test_split(df1, test_size=0.2, random_state=42)\n",
    "train_set=np.asarray(train_set)\n",
    "test_set=np.asarray(test_set)\n",
    "test_label = test_set[:,3]"
   ]
  },
  {
   "cell_type": "code",
   "execution_count": 4,
   "metadata": {
    "collapsed": true
   },
   "outputs": [],
   "source": [
    "array_1=[]\n",
    "array_0=[]\n",
    "for i in range(len(train_set)):\n",
    "    if(train_set[i][3]==1):\n",
    "        array_1.append(train_set[i])\n",
    "    if(train_set[i][3]==0):\n",
    "        array_0.append(train_set[i])\n",
    "class_1=np.asarray(array_1)\n",
    "class_0=np.asarray(array_0)"
   ]
  },
  {
   "cell_type": "code",
   "execution_count": 5,
   "metadata": {
    "collapsed": true
   },
   "outputs": [],
   "source": [
    "prob_class=[]\n",
    "prob_1=float(len(class_1))/len(train_set)\n",
    "prob_2=float(len(class_0))/len(train_set)\n",
    "prob_class.append(prob_1)\n",
    "prob_class.append(prob_2)\n",
    "prob_class=np.asarray(prob_class)"
   ]
  },
  {
   "cell_type": "code",
   "execution_count": 6,
   "metadata": {},
   "outputs": [
    {
     "data": {
      "text/plain": [
       "array([ 0.02636351,  0.05373961,  0.08121826])"
      ]
     },
     "execution_count": 6,
     "metadata": {},
     "output_type": "execute_result"
    }
   ],
   "source": [
    "sum_x_1=0.0\n",
    "mu_opt_11=[]\n",
    "for i in range(3):\n",
    "    for j in range(len(class_1)):\n",
    "        sum_x_1=sum_x_1+class_1[j][i]\n",
    "        mu_opt_1=sum_x_1/len(class_1)\n",
    "    mu_opt_11.append(mu_opt_1)\n",
    "mu_opt_11=np.asarray(mu_opt_11)\n",
    "mu_opt_11"
   ]
  },
  {
   "cell_type": "code",
   "execution_count": 7,
   "metadata": {
    "collapsed": true
   },
   "outputs": [],
   "source": [
    "sum_sigma_1=0.0\n",
    "sigma_opt_11=[]\n",
    "for i in range(3):\n",
    "    for j in range(len(class_1)):\n",
    "        sum_sigma_1= sum_sigma_1 + ((class_1[j][i] - mu_opt_11[i])**2)\n",
    "        sigma_opt_1=sum_sigma_1/len(class_1)\n",
    "    sigma_opt_11.append(sigma_opt_1)\n",
    "sigma_opt_11=np.asarray(sigma_opt_11)"
   ]
  },
  {
   "cell_type": "code",
   "execution_count": 8,
   "metadata": {
    "collapsed": true
   },
   "outputs": [],
   "source": [
    "sum_x_1=0.0\n",
    "mu_opt_00=[]\n",
    "for i in range(3):\n",
    "    for j in range(len(class_0)):\n",
    "        sum_x_1=sum_x_1+class_0[j][i]\n",
    "        mu_opt_1=sum_x_1/len(class_0)\n",
    "    mu_opt_00.append(mu_opt_1)\n",
    "mu_opt_00=np.asarray(mu_opt_00)"
   ]
  },
  {
   "cell_type": "code",
   "execution_count": 9,
   "metadata": {
    "collapsed": true
   },
   "outputs": [],
   "source": [
    "sum_sigma_1=0.0\n",
    "sigma_opt_00=[]\n",
    "for i in range(3):\n",
    "    for j in range(len(class_0)):\n",
    "        sum_sigma_1= sum_sigma_1 + ((class_0[j][i] - mu_opt_00[i])**2)\n",
    "        sigma_opt_1=sum_sigma_1/len(class_0)\n",
    "    sigma_opt_00.append(sigma_opt_1)\n",
    "sigma_opt_00=np.asarray(sigma_opt_00)"
   ]
  },
  {
   "cell_type": "code",
   "execution_count": 16,
   "metadata": {
    "collapsed": true
   },
   "outputs": [],
   "source": [
    "import math\n",
    "probability_list=[]\n",
    "predicted_prob=[]\n",
    "for i in range(len(test_set)):\n",
    "    prob_1 = math.log(prob_class[1])\n",
    "    prob_2 = math.log(prob_class[0])\n",
    "    for k in range(3):\n",
    "        power_1=((test_set[i][k]-mu_opt_11[k])**2)/(2*((sigma_opt_11[k])**2))\n",
    "        #expo_1=math.exp(-power_1)\n",
    "        val_1=-power_1+math.log((math.sqrt(44/7)*sigma_opt_11[k]))\n",
    "        prob_1+=val_1\n",
    "        \n",
    "        power_2=((test_set[i][k]-mu_opt_00[k])**2)/(2*((sigma_opt_00[k])**2))\n",
    "        #expo_2=math.exp(-power_2)\n",
    "        val_2=-power_2+math.log((math.sqrt(44/7)*sigma_opt_00[k]))\n",
    "        prob_2+=val_2\n",
    "    predicted_prob.append(prob_1)    \n",
    "    if(prob_1 > prob_2):\n",
    "        probability_list.append(1)\n",
    "    else:\n",
    "        probability_list.append(0)\n",
    "predict=np.asarray(probability_list)\n"
   ]
  },
  {
   "cell_type": "code",
   "execution_count": 17,
   "metadata": {},
   "outputs": [
    {
     "data": {
      "text/plain": [
       "0.6784922394678492"
      ]
     },
     "execution_count": 17,
     "metadata": {},
     "output_type": "execute_result"
    }
   ],
   "source": [
    "tp=0\n",
    "tn=0\n",
    "fp=0\n",
    "fn=0\n",
    "for i in range(len(test_set)):\n",
    "    if(predict[i] == 1 and predict[i] == test_set[i][3]):\n",
    "        tp+=1\n",
    "    elif(predict[i] == 0 and predict[i] == test_set[i][3]):\n",
    "        tn+=1\n",
    "    elif(predict[i] == 1 and predict[i] != test_set[i][3]):\n",
    "        fp+=1\n",
    "    else:\n",
    "        fn+=1\n",
    "accuracy = float(tp+tn)/len(test_set)\n",
    "accuracy"
   ]
  },
  {
   "cell_type": "code",
   "execution_count": 18,
   "metadata": {},
   "outputs": [
    {
     "data": {
      "text/plain": [
       "0.8343949044585988"
      ]
     },
     "execution_count": 18,
     "metadata": {},
     "output_type": "execute_result"
    }
   ],
   "source": [
    "precision = float(tp)/(tp+fp)\n",
    "precision"
   ]
  },
  {
   "cell_type": "code",
   "execution_count": 19,
   "metadata": {},
   "outputs": [
    {
     "data": {
      "text/plain": [
       "0.7380281690140845"
      ]
     },
     "execution_count": 19,
     "metadata": {},
     "output_type": "execute_result"
    }
   ],
   "source": [
    "recall=float(tp)/(tp+fn)\n",
    "recall"
   ]
  },
  {
   "cell_type": "code",
   "execution_count": 20,
   "metadata": {},
   "outputs": [
    {
     "data": {
      "text/plain": [
       "0.7832585949177877"
      ]
     },
     "execution_count": 20,
     "metadata": {},
     "output_type": "execute_result"
    }
   ],
   "source": [
    "f_measure=float(tp)/(tp+((fn+fp)/2))\n",
    "f_measure\n"
   ]
  },
  {
   "cell_type": "code",
   "execution_count": 21,
   "metadata": {},
   "outputs": [
    {
     "data": {
      "text/plain": [
       "0.39972124413145532"
      ]
     },
     "execution_count": 21,
     "metadata": {},
     "output_type": "execute_result"
    }
   ],
   "source": [
    "# AUC calculation\n",
    "from sklearn.metrics import *\n",
    "roc_auc_score(test_label, predicted_prob)\n"
   ]
  },
  {
   "cell_type": "code",
   "execution_count": null,
   "metadata": {
    "collapsed": true
   },
   "outputs": [],
   "source": []
  },
  {
   "cell_type": "code",
   "execution_count": null,
   "metadata": {
    "collapsed": true
   },
   "outputs": [],
   "source": []
  },
  {
   "cell_type": "code",
   "execution_count": null,
   "metadata": {
    "collapsed": true
   },
   "outputs": [],
   "source": []
  },
  {
   "cell_type": "code",
   "execution_count": null,
   "metadata": {
    "collapsed": true
   },
   "outputs": [],
   "source": []
  }
 ],
 "metadata": {
  "kernelspec": {
   "display_name": "Python 3",
   "language": "python",
   "name": "python3"
  },
  "language_info": {
   "codemirror_mode": {
    "name": "ipython",
    "version": 3
   },
   "file_extension": ".py",
   "mimetype": "text/x-python",
   "name": "python",
   "nbconvert_exporter": "python",
   "pygments_lexer": "ipython3",
   "version": "3.5.2"
  }
 },
 "nbformat": 4,
 "nbformat_minor": 2
}
