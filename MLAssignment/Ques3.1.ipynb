{
 "cells": [
  {
   "cell_type": "code",
   "execution_count": 1,
   "metadata": {},
   "outputs": [],
   "source": [
    "%matplotlib inline\n",
    "import matplotlib\n",
    "import matplotlib.pyplot as plt\n",
    "import numpy as np\n",
    "import pandas as pd\n",
    "import sklearn\n",
    "import operator\n",
    "import math\n",
    "import hashlib\n",
    "from pandas.plotting import scatter_matrix\n",
    "from sklearn.metrics import roc_curve, auc, roc_auc_score"
   ]
  },
  {
   "cell_type": "code",
   "execution_count": 2,
   "metadata": {},
   "outputs": [],
   "source": [
    "\"\"\"\n",
    "Read csv file into DataFrame\n",
    "Parameters: Path of csv file\n",
    "Returns: Pandas DataFrame \n",
    "\"\"\"  \n",
    "def load_data(csv_path):\n",
    "    return pd.read_csv(csv_path)"
   ]
  },
  {
   "cell_type": "code",
   "execution_count": 3,
   "metadata": {},
   "outputs": [
    {
     "name": "stdout",
     "output_type": "stream",
     "text": [
      "<class 'pandas.core.frame.DataFrame'>\n",
      "RangeIndex: 2254 entries, 0 to 2253\n",
      "Data columns (total 8 columns):\n",
      "Unnamed: 0    2254 non-null int64\n",
      "1             2254 non-null float64\n",
      "2             2254 non-null float64\n",
      "3             2254 non-null float64\n",
      "4             2254 non-null float64\n",
      "5             2254 non-null float64\n",
      "6             2254 non-null float64\n",
      "7             2254 non-null int64\n",
      "dtypes: float64(6), int64(2)\n",
      "memory usage: 141.0 KB\n"
     ]
    }
   ],
   "source": [
    "#load D9.csv into dataframe object\n",
    "q3_data = load_data(\"dataset/D9.csv\")\n",
    "\n",
    "#have a look at the info of the data\n",
    "q3_data.info()"
   ]
  },
  {
   "cell_type": "code",
   "execution_count": 4,
   "metadata": {},
   "outputs": [
    {
     "data": {
      "text/html": [
       "<div>\n",
       "<style scoped>\n",
       "    .dataframe tbody tr th:only-of-type {\n",
       "        vertical-align: middle;\n",
       "    }\n",
       "\n",
       "    .dataframe tbody tr th {\n",
       "        vertical-align: top;\n",
       "    }\n",
       "\n",
       "    .dataframe thead th {\n",
       "        text-align: right;\n",
       "    }\n",
       "</style>\n",
       "<table border=\"1\" class=\"dataframe\">\n",
       "  <thead>\n",
       "    <tr style=\"text-align: right;\">\n",
       "      <th></th>\n",
       "      <th>Unnamed: 0</th>\n",
       "      <th>1</th>\n",
       "      <th>2</th>\n",
       "      <th>3</th>\n",
       "      <th>4</th>\n",
       "      <th>5</th>\n",
       "      <th>6</th>\n",
       "      <th>7</th>\n",
       "    </tr>\n",
       "  </thead>\n",
       "  <tbody>\n",
       "    <tr>\n",
       "      <th>0</th>\n",
       "      <td>0</td>\n",
       "      <td>0.280307</td>\n",
       "      <td>0.277583</td>\n",
       "      <td>-0.918427</td>\n",
       "      <td>0.018825</td>\n",
       "      <td>0.020021</td>\n",
       "      <td>0.010556</td>\n",
       "      <td>1</td>\n",
       "    </tr>\n",
       "    <tr>\n",
       "      <th>1</th>\n",
       "      <td>1</td>\n",
       "      <td>0.094425</td>\n",
       "      <td>0.207830</td>\n",
       "      <td>-0.968575</td>\n",
       "      <td>0.072191</td>\n",
       "      <td>0.061208</td>\n",
       "      <td>0.028209</td>\n",
       "      <td>0</td>\n",
       "    </tr>\n",
       "    <tr>\n",
       "      <th>2</th>\n",
       "      <td>2</td>\n",
       "      <td>0.061331</td>\n",
       "      <td>0.105566</td>\n",
       "      <td>-0.982372</td>\n",
       "      <td>0.098648</td>\n",
       "      <td>0.098378</td>\n",
       "      <td>0.025084</td>\n",
       "      <td>0</td>\n",
       "    </tr>\n",
       "    <tr>\n",
       "      <th>3</th>\n",
       "      <td>3</td>\n",
       "      <td>0.322497</td>\n",
       "      <td>0.312729</td>\n",
       "      <td>-0.893405</td>\n",
       "      <td>0.001643</td>\n",
       "      <td>0.004185</td>\n",
       "      <td>0.001740</td>\n",
       "      <td>1</td>\n",
       "    </tr>\n",
       "    <tr>\n",
       "      <th>4</th>\n",
       "      <td>4</td>\n",
       "      <td>0.298441</td>\n",
       "      <td>0.263278</td>\n",
       "      <td>-0.917370</td>\n",
       "      <td>0.003255</td>\n",
       "      <td>0.005779</td>\n",
       "      <td>0.002387</td>\n",
       "      <td>1</td>\n",
       "    </tr>\n",
       "  </tbody>\n",
       "</table>\n",
       "</div>"
      ],
      "text/plain": [
       "   Unnamed: 0         1         2         3         4         5         6  7\n",
       "0           0  0.280307  0.277583 -0.918427  0.018825  0.020021  0.010556  1\n",
       "1           1  0.094425  0.207830 -0.968575  0.072191  0.061208  0.028209  0\n",
       "2           2  0.061331  0.105566 -0.982372  0.098648  0.098378  0.025084  0\n",
       "3           3  0.322497  0.312729 -0.893405  0.001643  0.004185  0.001740  1\n",
       "4           4  0.298441  0.263278 -0.917370  0.003255  0.005779  0.002387  1"
      ]
     },
     "execution_count": 4,
     "metadata": {},
     "output_type": "execute_result"
    }
   ],
   "source": [
    "#have a look at the data\n",
    "q3_data.head()"
   ]
  },
  {
   "cell_type": "code",
   "execution_count": 5,
   "metadata": {},
   "outputs": [
    {
     "data": {
      "image/png": "[encoded data removed]",
      "text/plain": [
       "<matplotlib.figure.Figure at 0x7f833c1c3908>"
      ]
     },
     "metadata": {},
     "output_type": "display_data"
    }
   ],
   "source": [
    "#plot the data to know about distribution of the data\n",
    "q3_data.hist(bins = 50, figsize = (20,15))\n",
    "plt.show()"
   ]
  },
  {
   "cell_type": "code",
   "execution_count": 6,
   "metadata": {},
   "outputs": [],
   "source": [
    "#rename the unnamed column as 'id'\n",
    "q3_data.rename(columns={'Unnamed: 0':'id'}, inplace=True)"
   ]
  },
  {
   "cell_type": "code",
   "execution_count": 7,
   "metadata": {},
   "outputs": [
    {
     "data": {
      "text/html": [
       "<div>\n",
       "<style scoped>\n",
       "    .dataframe tbody tr th:only-of-type {\n",
       "        vertical-align: middle;\n",
       "    }\n",
       "\n",
       "    .dataframe tbody tr th {\n",
       "        vertical-align: top;\n",
       "    }\n",
       "\n",
       "    .dataframe thead th {\n",
       "        text-align: right;\n",
       "    }\n",
       "</style>\n",
       "<table border=\"1\" class=\"dataframe\">\n",
       "  <thead>\n",
       "    <tr style=\"text-align: right;\">\n",
       "      <th></th>\n",
       "      <th>id</th>\n",
       "      <th>1</th>\n",
       "      <th>2</th>\n",
       "      <th>3</th>\n",
       "      <th>4</th>\n",
       "      <th>5</th>\n",
       "      <th>6</th>\n",
       "      <th>7</th>\n",
       "    </tr>\n",
       "  </thead>\n",
       "  <tbody>\n",
       "    <tr>\n",
       "      <th>0</th>\n",
       "      <td>0</td>\n",
       "      <td>0.280307</td>\n",
       "      <td>0.277583</td>\n",
       "      <td>-0.918427</td>\n",
       "      <td>0.018825</td>\n",
       "      <td>0.020021</td>\n",
       "      <td>0.010556</td>\n",
       "      <td>1</td>\n",
       "    </tr>\n",
       "    <tr>\n",
       "      <th>1</th>\n",
       "      <td>1</td>\n",
       "      <td>0.094425</td>\n",
       "      <td>0.207830</td>\n",
       "      <td>-0.968575</td>\n",
       "      <td>0.072191</td>\n",
       "      <td>0.061208</td>\n",
       "      <td>0.028209</td>\n",
       "      <td>0</td>\n",
       "    </tr>\n",
       "    <tr>\n",
       "      <th>2</th>\n",
       "      <td>2</td>\n",
       "      <td>0.061331</td>\n",
       "      <td>0.105566</td>\n",
       "      <td>-0.982372</td>\n",
       "      <td>0.098648</td>\n",
       "      <td>0.098378</td>\n",
       "      <td>0.025084</td>\n",
       "      <td>0</td>\n",
       "    </tr>\n",
       "    <tr>\n",
       "      <th>3</th>\n",
       "      <td>3</td>\n",
       "      <td>0.322497</td>\n",
       "      <td>0.312729</td>\n",
       "      <td>-0.893405</td>\n",
       "      <td>0.001643</td>\n",
       "      <td>0.004185</td>\n",
       "      <td>0.001740</td>\n",
       "      <td>1</td>\n",
       "    </tr>\n",
       "    <tr>\n",
       "      <th>4</th>\n",
       "      <td>4</td>\n",
       "      <td>0.298441</td>\n",
       "      <td>0.263278</td>\n",
       "      <td>-0.917370</td>\n",
       "      <td>0.003255</td>\n",
       "      <td>0.005779</td>\n",
       "      <td>0.002387</td>\n",
       "      <td>1</td>\n",
       "    </tr>\n",
       "  </tbody>\n",
       "</table>\n",
       "</div>"
      ],
      "text/plain": [
       "   id         1         2         3         4         5         6  7\n",
       "0   0  0.280307  0.277583 -0.918427  0.018825  0.020021  0.010556  1\n",
       "1   1  0.094425  0.207830 -0.968575  0.072191  0.061208  0.028209  0\n",
       "2   2  0.061331  0.105566 -0.982372  0.098648  0.098378  0.025084  0\n",
       "3   3  0.322497  0.312729 -0.893405  0.001643  0.004185  0.001740  1\n",
       "4   4  0.298441  0.263278 -0.917370  0.003255  0.005779  0.002387  1"
      ]
     },
     "execution_count": 7,
     "metadata": {},
     "output_type": "execute_result"
    }
   ],
   "source": [
    "#have a look at the data now\n",
    "q3_data.head()"
   ]
  },
  {
   "cell_type": "code",
   "execution_count": 8,
   "metadata": {},
   "outputs": [
    {
     "data": {
      "text/html": [
       "<div>\n",
       "<style scoped>\n",
       "    .dataframe tbody tr th:only-of-type {\n",
       "        vertical-align: middle;\n",
       "    }\n",
       "\n",
       "    .dataframe tbody tr th {\n",
       "        vertical-align: top;\n",
       "    }\n",
       "\n",
       "    .dataframe thead th {\n",
       "        text-align: right;\n",
       "    }\n",
       "</style>\n",
       "<table border=\"1\" class=\"dataframe\">\n",
       "  <thead>\n",
       "    <tr style=\"text-align: right;\">\n",
       "      <th></th>\n",
       "      <th>id</th>\n",
       "      <th>1</th>\n",
       "      <th>2</th>\n",
       "      <th>3</th>\n",
       "      <th>4</th>\n",
       "      <th>5</th>\n",
       "      <th>6</th>\n",
       "    </tr>\n",
       "  </thead>\n",
       "  <tbody>\n",
       "    <tr>\n",
       "      <th>0</th>\n",
       "      <td>0</td>\n",
       "      <td>0.280307</td>\n",
       "      <td>0.277583</td>\n",
       "      <td>-0.918427</td>\n",
       "      <td>0.018825</td>\n",
       "      <td>0.020021</td>\n",
       "      <td>0.010556</td>\n",
       "    </tr>\n",
       "    <tr>\n",
       "      <th>1</th>\n",
       "      <td>1</td>\n",
       "      <td>0.094425</td>\n",
       "      <td>0.207830</td>\n",
       "      <td>-0.968575</td>\n",
       "      <td>0.072191</td>\n",
       "      <td>0.061208</td>\n",
       "      <td>0.028209</td>\n",
       "    </tr>\n",
       "    <tr>\n",
       "      <th>2</th>\n",
       "      <td>2</td>\n",
       "      <td>0.061331</td>\n",
       "      <td>0.105566</td>\n",
       "      <td>-0.982372</td>\n",
       "      <td>0.098648</td>\n",
       "      <td>0.098378</td>\n",
       "      <td>0.025084</td>\n",
       "    </tr>\n",
       "    <tr>\n",
       "      <th>3</th>\n",
       "      <td>3</td>\n",
       "      <td>0.322497</td>\n",
       "      <td>0.312729</td>\n",
       "      <td>-0.893405</td>\n",
       "      <td>0.001643</td>\n",
       "      <td>0.004185</td>\n",
       "      <td>0.001740</td>\n",
       "    </tr>\n",
       "    <tr>\n",
       "      <th>4</th>\n",
       "      <td>4</td>\n",
       "      <td>0.298441</td>\n",
       "      <td>0.263278</td>\n",
       "      <td>-0.917370</td>\n",
       "      <td>0.003255</td>\n",
       "      <td>0.005779</td>\n",
       "      <td>0.002387</td>\n",
       "    </tr>\n",
       "  </tbody>\n",
       "</table>\n",
       "</div>"
      ],
      "text/plain": [
       "   id         1         2         3         4         5         6\n",
       "0   0  0.280307  0.277583 -0.918427  0.018825  0.020021  0.010556\n",
       "1   1  0.094425  0.207830 -0.968575  0.072191  0.061208  0.028209\n",
       "2   2  0.061331  0.105566 -0.982372  0.098648  0.098378  0.025084\n",
       "3   3  0.322497  0.312729 -0.893405  0.001643  0.004185  0.001740\n",
       "4   4  0.298441  0.263278 -0.917370  0.003255  0.005779  0.002387"
      ]
     },
     "execution_count": 8,
     "metadata": {},
     "output_type": "execute_result"
    }
   ],
   "source": [
    "#store the value to be predicted in labels\n",
    "labels = q3_data[\"7\"].copy()\n",
    "\n",
    "#remove column 7 from the dataset and store the remaining dataset in 'data'\n",
    "data = q3_data.drop(\"7\",axis=1)\n",
    "#have a look at the 'data'\n",
    "data.head()"
   ]
  },
  {
   "cell_type": "code",
   "execution_count": 9,
   "metadata": {},
   "outputs": [
    {
     "name": "stdout",
     "output_type": "stream",
     "text": [
      "0    1\n",
      "1    0\n",
      "2    0\n",
      "3    1\n",
      "4    1\n",
      "Name: 7, dtype: int64\n"
     ]
    }
   ],
   "source": [
    "#have a look at the labels\n",
    "print(labels.head())"
   ]
  },
  {
   "cell_type": "code",
   "execution_count": null,
   "metadata": {},
   "outputs": [
    {
     "data": {
      "text/plain": [
       "7     1.000000\n",
       "2     0.114751\n",
       "1     0.098540\n",
       "id    0.022240\n",
       "3     0.000601\n",
       "5    -0.405060\n",
       "6    -0.419292\n",
       "4    -0.423992\n",
       "Name: 7, dtype: float64"
      ]
     },
     "execution_count": 10,
     "metadata": {},
     "output_type": "execute_result"
    }
   ],
   "source": [
    "#Get correlation of all the columns with column 7\n",
    "corr_matrix = q3_data.corr()\n",
    "corr_matrix[\"7\"].sort_values(ascending=False)\n",
    "\n",
    "#giving very less correlation values, not much useful"
   ]
  },
  {
   "cell_type": "code",
   "execution_count": null,
   "metadata": {},
   "outputs": [],
   "source": [
    "#Plot scatter matrix to see correlation among all the columns\n",
    "attributes = [\"1\",\"2\",\"3\",\"4\",\"5\",\"6\"]\n",
    "scatter_matrix(q3_data[attributes],figsize=(12,8),alpha=.1)\n",
    "\n",
    "#as we can see in plots below 4,5,6 are highly correlated(linearly dependent)\n",
    "#also 1 and 3 are correlated linearly"
   ]
  },
  {
   "cell_type": "code",
   "execution_count": null,
   "metadata": {},
   "outputs": [],
   "source": [
    "#Method to split data into training and test sets\n",
    "def test_set_check(identifier,test_ratio,hash):\n",
    "    return bytearray(hash(np.int64(identifier)).digest())[-1]  < 51\n",
    "\n",
    "def split_train_test_by_id(data,test_ratio,id_column,hash):\n",
    "    ids=data[id_column]\n",
    "    in_test_set=ids.apply(lambda id_:test_set_check(id_,test_ratio,hash))\n",
    "    return in_test_set"
   ]
  },
  {
   "cell_type": "code",
   "execution_count": null,
   "metadata": {},
   "outputs": [],
   "source": [
    "#Split dataset into training and test_set using column 'id'\n",
    "q3_data = q3_data.reset_index()\n",
    "test_set_index = split_train_test_by_id(q3_data,0.66,\"id\",hashlib.md5)\n",
    "test_set = q3_data[test_set_index]\n",
    "train_set = q3_data[~test_set_index]\n",
    "\n",
    "#delete id column from training and test set\n",
    "del train_set[\"id\"]\n",
    "del test_set[\"id\"]"
   ]
  },
  {
   "cell_type": "code",
   "execution_count": null,
   "metadata": {},
   "outputs": [],
   "source": [
    "#Convert train set into matrix\n",
    "train_set_matrix = train_set.as_matrix()\n",
    "\n",
    "#Store a copy of test_set\n",
    "test_set_copy = test_set.copy()\n",
    "\n",
    "#delete column 7 from test set\n",
    "del test_set[\"7\"]\n",
    "\n",
    "#Convert test set into matrix\n",
    "test_set_matrix = test_set.as_matrix()"
   ]
  },
  {
   "cell_type": "code",
   "execution_count": null,
   "metadata": {},
   "outputs": [],
   "source": [
    "#Methods for nearest neighbor \n",
    "\"\"\"\n",
    "Calculate euclidean distance between two instances as\n",
    "the square root of the sum of the squared differences between the two arrays of numbers\n",
    "Parameters:\n",
    "instance1, instance2 : instances of training and test set\n",
    "length: fixed length limit for euclidean distance\n",
    "\"\"\"\n",
    "def euclideanDistance(instance1, instance2, length):\n",
    "    distance = 0\n",
    "    for x in range(length):\n",
    "        distance += pow((instance1[x] - instance2[x]), 2)\n",
    "    return math.sqrt(distance)\n",
    "\n",
    "\"\"\"\n",
    "Calculate k most similar neighbors from the training set for a given test instance\n",
    "Parameters:\n",
    "trainingSet : the training set matrix\n",
    "testInstance : instance of the test set matrix\n",
    "k : number of neighbors to be considered\n",
    "Returns: list of k most similar neighbors\n",
    "\"\"\"\n",
    "def getNeighbors(trainingSet, testInstance, k):\n",
    "    distances = []\n",
    "    length = len(testInstance)\n",
    "    for x in range(len(trainingSet)):\n",
    "        dist = euclideanDistance(testInstance, trainingSet[x], length)\n",
    "        distances.append((trainingSet[x], dist))\n",
    "    distances.sort(key=operator.itemgetter(1))\n",
    "    neighbors = []\n",
    "    for x in range(k):\n",
    "        neighbors.append(distances[x][0])\n",
    "    return neighbors\n",
    "\n",
    "\"\"\"\n",
    "Get the majority voted response from a number of neighbors\n",
    "Parameters:\n",
    "neighbors - list of similar neighbors\n",
    "Returns: predicted neighbor based on majority vote\n",
    "\"\"\"\n",
    "def getResponse(neighbors):\n",
    "    classVotes = {}\n",
    "    for x in range(len(neighbors)):\n",
    "        response = neighbors[x][-1]\n",
    "        if response in classVotes:\n",
    "            classVotes[response] += 1\n",
    "        else:\n",
    "            classVotes[response] = 1\n",
    "    sortedVotes = sorted(classVotes.items(), key=operator.itemgetter(1), reverse=True)\n",
    "    return sortedVotes[0][0]"
   ]
  },
  {
   "cell_type": "code",
   "execution_count": null,
   "metadata": {},
   "outputs": [],
   "source": [
    "#Nearest Neighbor\n",
    "k=1\n",
    "pred=[]\n",
    "for x in range(len(test_set_matrix)):\n",
    "    neighbors = getNeighbors(train_set_matrix,test_set_matrix[x],k)\n",
    "    result = getResponse(neighbors)\n",
    "    pred.append(result)"
   ]
  },
  {
   "cell_type": "code",
   "execution_count": null,
   "metadata": {},
   "outputs": [],
   "source": [
    "\"\"\"\n",
    "calculate accuracy of the model\n",
    "Parameters:\n",
    "testSet - test_set matrix with output labels\n",
    "predictions - label predicted by model\n",
    "Returns: accuracy %\n",
    "\"\"\"\n",
    "def getAccuracy(testSet, predictions):\n",
    "    correct = 0\n",
    "    for x in range(len(testSet)):\n",
    "        if testSet[x][-1] == predictions[x]:\n",
    "            correct += 1\n",
    "    return (correct/float(len(testSet))) * 100.0"
   ]
  },
  {
   "cell_type": "code",
   "execution_count": null,
   "metadata": {},
   "outputs": [],
   "source": [
    "#Convert test_set_copy into matrix\n",
    "test_set_copy = test_set_copy.as_matrix()\n",
    "\n",
    "#Calculate accuracy of the model\n",
    "accuracy = getAccuracy(test_set_copy,pred)\n",
    "\n",
    "print(\"Accuracy: \",accuracy, \"%\")"
   ]
  },
  {
   "cell_type": "code",
   "execution_count": null,
   "metadata": {},
   "outputs": [],
   "source": [
    "\"\"\"\n",
    "Calculate F1 score of the model\n",
    "Parameters:\n",
    "tags - list of actual label\n",
    "predicted - list of label predicted by the model\n",
    "Returns: F1 score\n",
    "\"\"\"\n",
    "def F1_score(tags,predicted):\n",
    "    tags = set(tags)\n",
    "    predicted = set(predicted)\n",
    "\n",
    "    tp = len(tags & predicted)\n",
    "    fp = len(predicted) - tp \n",
    "    fn = len(tags) - tp\n",
    "    if tp>0:\n",
    "        precision = float(tp) / (tp + fp)\n",
    "        recall = float(tp) / (tp + fn)\n",
    "        print(\"Precision: \", precision, \"Recall: \", recall)\n",
    "\n",
    "        return 2 * ((precision * recall) / (precision + recall))\n",
    "    else:\n",
    "        return 0"
   ]
  },
  {
   "cell_type": "code",
   "execution_count": null,
   "metadata": {},
   "outputs": [],
   "source": [
    "#Store actual labels in tags\n",
    "tags = []\n",
    "for x in range(len(test_set_copy)):\n",
    "    tags.append(test_set_copy[x][-1])\n",
    "    \n",
    "#Calculate F1 score\n",
    "f1_score = F1_score(tags,pred)\n",
    "print(\"F1 Score: \", f1_score)"
   ]
  },
  {
   "cell_type": "code",
   "execution_count": null,
   "metadata": {},
   "outputs": [],
   "source": [
    "fpr = dict()\n",
    "tpr = dict()\n",
    "roc_auc = dict()\n",
    "for i in range(2):\n",
    "    fpr[i], tpr[i], _ = roc_curve(tags, pred)\n",
    "    roc_auc[i] = auc(fpr[i], tpr[i])\n",
    "\n",
    "print(roc_auc_score(tags, pred))"
   ]
  },
  {
   "cell_type": "code",
   "execution_count": null,
   "metadata": {},
   "outputs": [],
   "source": [
    "def precision(y_true, y_pred):\n",
    "    i = set(y_true).intersection(y_pred)\n",
    "    len1 = len(y_pred)\n",
    "    if len1 == 0:\n",
    "        return 0\n",
    "    else:\n",
    "        return len(i) / len1\n",
    "    \n",
    "print(precision(tags, pred))\n",
    "\n",
    "def recall(y_true, y_pred):\n",
    "    i = set(y_true).intersection(y_pred)\n",
    "    return len(i) / len(y_true)\n",
    "\n",
    "print(recall(y_test, y_pred))\n",
    "\n",
    "def f1(y_true, y_pred):\n",
    "    p = precision(y_true, y_pred)\n",
    "    r = recall(y_true, y_pred)\n",
    "    if p + r == 0:\n",
    "        return 0\n",
    "    else:\n",
    "        return 2 * (p * r) / (p + r)\n",
    "    \n",
    "print(f1(y_test, y_pred))"
   ]
  }
 ],
 "metadata": {
  "kernelspec": {
   "display_name": "Python 3",
   "language": "python",
   "name": "python3"
  },
  "language_info": {
   "codemirror_mode": {
    "name": "ipython",
    "version": 3
   },
   "file_extension": ".py",
   "mimetype": "text/x-python",
   "name": "python",
   "nbconvert_exporter": "python",
   "pygments_lexer": "ipython3",
   "version": "3.5.2"
  }
 },
 "nbformat": 4,
 "nbformat_minor": 2
}
